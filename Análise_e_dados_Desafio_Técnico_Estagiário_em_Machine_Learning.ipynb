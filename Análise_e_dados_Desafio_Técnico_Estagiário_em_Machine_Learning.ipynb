{
  "nbformat": 4,
  "nbformat_minor": 0,
  "metadata": {
    "colab": {
      "name": "Análise e dados - Desafio Técnico Estagiário em Machine Learning.ipynb",
      "provenance": [],
      "collapsed_sections": [],
      "toc_visible": true
    },
    "kernelspec": {
      "name": "python3",
      "display_name": "Python 3"
    },
    "language_info": {
      "name": "python"
    }
  },
  "cells": [
    {
      "cell_type": "code",
      "metadata": {
        "colab": {
          "resources": {
            "http://localhost:8080/nbextensions/google.colab/files.js": {
              "data": "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",
              "ok": true,
              "headers": [
                [
                  "content-type",
                  "application/javascript"
                ]
              ],
              "status": 200,
              "status_text": ""
            }
          },
          "base_uri": "https://localhost:8080/",
          "height": 72
        },
        "id": "JX1mGEVdhRsS",
        "outputId": "363834ca-265c-4e56-f7fd-42d239352ddf"
      },
      "source": [
        "import pandas as pd\n",
        "import io\n",
        "from google.colab import files\n",
        "import seaborn as sns\n",
        "import matplotlib.pyplot as plt\n",
        "import numpy as np\n",
        "\n",
        "uploaded = files.upload()\n",
        "\n",
        "sns.set(style = 'whitegrid')"
      ],
      "execution_count": null,
      "outputs": [
        {
          "output_type": "display_data",
          "data": {
            "text/html": [
              "\n",
              "     <input type=\"file\" id=\"files-88d345e9-44ae-4eeb-8706-07d6ce9f2119\" name=\"files[]\" multiple disabled\n",
              "        style=\"border:none\" />\n",
              "     <output id=\"result-88d345e9-44ae-4eeb-8706-07d6ce9f2119\">\n",
              "      Upload widget is only available when the cell has been executed in the\n",
              "      current browser session. Please rerun this cell to enable.\n",
              "      </output>\n",
              "      <script src=\"/nbextensions/google.colab/files.js\"></script> "
            ],
            "text/plain": [
              "<IPython.core.display.HTML object>"
            ]
          },
          "metadata": {
            "tags": []
          }
        },
        {
          "output_type": "stream",
          "text": [
            "Saving DesafioEstagioMachineLearning.csv to DesafioEstagioMachineLearning (1).csv\n"
          ],
          "name": "stdout"
        }
      ]
    },
    {
      "cell_type": "code",
      "metadata": {
        "id": "NFd2NP9qiNlo"
      },
      "source": [
        "data = pd.read_csv(io.StringIO(uploaded['DesafioEstagioMachineLearning.csv'].decode('utf-8')))"
      ],
      "execution_count": null,
      "outputs": []
    },
    {
      "cell_type": "markdown",
      "metadata": {
        "id": "ugbeAJ97-tmG"
      },
      "source": [
        "#<b>Análise e dados - Desafio Técnico Estagiário em Machine Learning</b>\n",
        "\n",
        "Um cliente da Geofusion que atua no <b>setor alimentício</b> na cidade do Rio de Janeiro gostaria de <b>entender melhor sobre o seu público alvo.</b> Dadas as variáveis sociodemográficas (presentes no dicionário de dados) e a variável de performance faturamento, <b>realize uma análise exploratória trazendo insights sobre o público alvo da rede e crie um modelo de regressão capaz de prever o faturamento em novos bairros,</b> caso o nosso cliente queira realizar um projeto de expansão."
      ]
    },
    {
      "cell_type": "markdown",
      "metadata": {
        "id": "ucnLLo2O_5hT"
      },
      "source": [
        "##<b>Objetivo da Análise</b>\n",
        "\n",
        "O objetivo dessa análise de dados será trazer informações que sejam importantes para o nosso cliente voltados ao setor que está atuando, observando em quais pontos das cidade do Rio de Janeiro onde possui os melhores lugares para estabecer um loja e com maior poder de compra, para que o nosso cliente saiba onde distribuir suas lojas e as vendas de seus produtos"
      ]
    },
    {
      "cell_type": "code",
      "metadata": {
        "colab": {
          "base_uri": "https://localhost:8080/",
          "height": 626
        },
        "id": "KT_CrPfR4VOu",
        "outputId": "7da18efb-41d5-4699-b7ef-31af2b2961b3"
      },
      "source": [
        "data"
      ],
      "execution_count": null,
      "outputs": [
        {
          "output_type": "execute_result",
          "data": {
            "text/html": [
              "<div>\n",
              "<style scoped>\n",
              "    .dataframe tbody tr th:only-of-type {\n",
              "        vertical-align: middle;\n",
              "    }\n",
              "\n",
              "    .dataframe tbody tr th {\n",
              "        vertical-align: top;\n",
              "    }\n",
              "\n",
              "    .dataframe thead th {\n",
              "        text-align: right;\n",
              "    }\n",
              "</style>\n",
              "<table border=\"1\" class=\"dataframe\">\n",
              "  <thead>\n",
              "    <tr style=\"text-align: right;\">\n",
              "      <th></th>\n",
              "      <th>codigo</th>\n",
              "      <th>nome</th>\n",
              "      <th>cidade</th>\n",
              "      <th>estado</th>\n",
              "      <th>população</th>\n",
              "      <th>popAte9</th>\n",
              "      <th>popDe10a14</th>\n",
              "      <th>popDe15a19</th>\n",
              "      <th>popDe20a24</th>\n",
              "      <th>popDe25a34</th>\n",
              "      <th>popDe35a49</th>\n",
              "      <th>popDe50a59</th>\n",
              "      <th>popMaisDe60</th>\n",
              "      <th>domiciliosA1</th>\n",
              "      <th>domiciliosA2</th>\n",
              "      <th>domiciliosB1</th>\n",
              "      <th>domiciliosB2</th>\n",
              "      <th>domiciliosC1</th>\n",
              "      <th>domiciliosC2</th>\n",
              "      <th>domiciliosD</th>\n",
              "      <th>domiciliosE</th>\n",
              "      <th>rendaMedia</th>\n",
              "      <th>faturamento</th>\n",
              "    </tr>\n",
              "  </thead>\n",
              "  <tbody>\n",
              "    <tr>\n",
              "      <th>0</th>\n",
              "      <td>3304557060</td>\n",
              "      <td>Abolição</td>\n",
              "      <td>Rio de Janeiro</td>\n",
              "      <td>RJ</td>\n",
              "      <td>11676</td>\n",
              "      <td>1027</td>\n",
              "      <td>483</td>\n",
              "      <td>688</td>\n",
              "      <td>800</td>\n",
              "      <td>1675</td>\n",
              "      <td>2300</td>\n",
              "      <td>1784</td>\n",
              "      <td>2919</td>\n",
              "      <td>0</td>\n",
              "      <td>145</td>\n",
              "      <td>715</td>\n",
              "      <td>1242</td>\n",
              "      <td>1093</td>\n",
              "      <td>758</td>\n",
              "      <td>92</td>\n",
              "      <td>304</td>\n",
              "      <td>2501.0</td>\n",
              "      <td>932515.0</td>\n",
              "    </tr>\n",
              "    <tr>\n",
              "      <th>1</th>\n",
              "      <td>3304557138</td>\n",
              "      <td>Acari</td>\n",
              "      <td>Rio de Janeiro</td>\n",
              "      <td>RJ</td>\n",
              "      <td>27564</td>\n",
              "      <td>5131</td>\n",
              "      <td>2188</td>\n",
              "      <td>2697</td>\n",
              "      <td>2630</td>\n",
              "      <td>4810</td>\n",
              "      <td>5308</td>\n",
              "      <td>2403</td>\n",
              "      <td>2397</td>\n",
              "      <td>0</td>\n",
              "      <td>0</td>\n",
              "      <td>82</td>\n",
              "      <td>506</td>\n",
              "      <td>2040</td>\n",
              "      <td>2490</td>\n",
              "      <td>827</td>\n",
              "      <td>2506</td>\n",
              "      <td>931.0</td>\n",
              "      <td>588833.0</td>\n",
              "    </tr>\n",
              "    <tr>\n",
              "      <th>2</th>\n",
              "      <td>3304557057</td>\n",
              "      <td>Água Santa</td>\n",
              "      <td>Rio de Janeiro</td>\n",
              "      <td>RJ</td>\n",
              "      <td>9003</td>\n",
              "      <td>883</td>\n",
              "      <td>399</td>\n",
              "      <td>597</td>\n",
              "      <td>762</td>\n",
              "      <td>1755</td>\n",
              "      <td>2076</td>\n",
              "      <td>1112</td>\n",
              "      <td>1419</td>\n",
              "      <td>0</td>\n",
              "      <td>96</td>\n",
              "      <td>404</td>\n",
              "      <td>652</td>\n",
              "      <td>644</td>\n",
              "      <td>522</td>\n",
              "      <td>77</td>\n",
              "      <td>254</td>\n",
              "      <td>2391.0</td>\n",
              "      <td>874200.0</td>\n",
              "    </tr>\n",
              "    <tr>\n",
              "      <th>3</th>\n",
              "      <td>3304557031</td>\n",
              "      <td>Alto Da Boa Vista</td>\n",
              "      <td>Rio de Janeiro</td>\n",
              "      <td>RJ</td>\n",
              "      <td>9606</td>\n",
              "      <td>1072</td>\n",
              "      <td>538</td>\n",
              "      <td>660</td>\n",
              "      <td>685</td>\n",
              "      <td>1317</td>\n",
              "      <td>2007</td>\n",
              "      <td>1341</td>\n",
              "      <td>1986</td>\n",
              "      <td>114</td>\n",
              "      <td>178</td>\n",
              "      <td>393</td>\n",
              "      <td>517</td>\n",
              "      <td>945</td>\n",
              "      <td>584</td>\n",
              "      <td>137</td>\n",
              "      <td>286</td>\n",
              "      <td>3727.0</td>\n",
              "      <td>912226.0</td>\n",
              "    </tr>\n",
              "    <tr>\n",
              "      <th>4</th>\n",
              "      <td>3304557125</td>\n",
              "      <td>Anchieta</td>\n",
              "      <td>Rio de Janeiro</td>\n",
              "      <td>RJ</td>\n",
              "      <td>57222</td>\n",
              "      <td>7677</td>\n",
              "      <td>3774</td>\n",
              "      <td>4892</td>\n",
              "      <td>4600</td>\n",
              "      <td>8660</td>\n",
              "      <td>12272</td>\n",
              "      <td>7157</td>\n",
              "      <td>8190</td>\n",
              "      <td>0</td>\n",
              "      <td>0</td>\n",
              "      <td>1089</td>\n",
              "      <td>2821</td>\n",
              "      <td>5110</td>\n",
              "      <td>5422</td>\n",
              "      <td>1073</td>\n",
              "      <td>3261</td>\n",
              "      <td>1380.0</td>\n",
              "      <td>553020.0</td>\n",
              "    </tr>\n",
              "    <tr>\n",
              "      <th>...</th>\n",
              "      <td>...</td>\n",
              "      <td>...</td>\n",
              "      <td>...</td>\n",
              "      <td>...</td>\n",
              "      <td>...</td>\n",
              "      <td>...</td>\n",
              "      <td>...</td>\n",
              "      <td>...</td>\n",
              "      <td>...</td>\n",
              "      <td>...</td>\n",
              "      <td>...</td>\n",
              "      <td>...</td>\n",
              "      <td>...</td>\n",
              "      <td>...</td>\n",
              "      <td>...</td>\n",
              "      <td>...</td>\n",
              "      <td>...</td>\n",
              "      <td>...</td>\n",
              "      <td>...</td>\n",
              "      <td>...</td>\n",
              "      <td>...</td>\n",
              "      <td>...</td>\n",
              "      <td>...</td>\n",
              "    </tr>\n",
              "    <tr>\n",
              "      <th>155</th>\n",
              "      <td>3304557062</td>\n",
              "      <td>Vila Kosmos</td>\n",
              "      <td>Rio de Janeiro</td>\n",
              "      <td>RJ</td>\n",
              "      <td>18791</td>\n",
              "      <td>1802</td>\n",
              "      <td>921</td>\n",
              "      <td>1442</td>\n",
              "      <td>1462</td>\n",
              "      <td>2500</td>\n",
              "      <td>3944</td>\n",
              "      <td>2920</td>\n",
              "      <td>3800</td>\n",
              "      <td>0</td>\n",
              "      <td>259</td>\n",
              "      <td>774</td>\n",
              "      <td>1363</td>\n",
              "      <td>1923</td>\n",
              "      <td>1379</td>\n",
              "      <td>190</td>\n",
              "      <td>405</td>\n",
              "      <td>2316.0</td>\n",
              "      <td>901446.0</td>\n",
              "    </tr>\n",
              "    <tr>\n",
              "      <th>156</th>\n",
              "      <td>3304557093</td>\n",
              "      <td>Vila Militar</td>\n",
              "      <td>Rio de Janeiro</td>\n",
              "      <td>RJ</td>\n",
              "      <td>13556</td>\n",
              "      <td>1888</td>\n",
              "      <td>787</td>\n",
              "      <td>1042</td>\n",
              "      <td>982</td>\n",
              "      <td>2542</td>\n",
              "      <td>2908</td>\n",
              "      <td>1528</td>\n",
              "      <td>1879</td>\n",
              "      <td>0</td>\n",
              "      <td>219</td>\n",
              "      <td>714</td>\n",
              "      <td>828</td>\n",
              "      <td>1051</td>\n",
              "      <td>1012</td>\n",
              "      <td>116</td>\n",
              "      <td>465</td>\n",
              "      <td>2416.0</td>\n",
              "      <td>849731.0</td>\n",
              "    </tr>\n",
              "    <tr>\n",
              "      <th>157</th>\n",
              "      <td>3304557091</td>\n",
              "      <td>Vila Valqueire</td>\n",
              "      <td>Rio de Janeiro</td>\n",
              "      <td>RJ</td>\n",
              "      <td>33190</td>\n",
              "      <td>3166</td>\n",
              "      <td>1619</td>\n",
              "      <td>2255</td>\n",
              "      <td>2326</td>\n",
              "      <td>4752</td>\n",
              "      <td>7183</td>\n",
              "      <td>4950</td>\n",
              "      <td>6939</td>\n",
              "      <td>0</td>\n",
              "      <td>906</td>\n",
              "      <td>2866</td>\n",
              "      <td>2241</td>\n",
              "      <td>2982</td>\n",
              "      <td>1200</td>\n",
              "      <td>360</td>\n",
              "      <td>772</td>\n",
              "      <td>3189.0</td>\n",
              "      <td>1127042.0</td>\n",
              "    </tr>\n",
              "    <tr>\n",
              "      <th>158</th>\n",
              "      <td>3304557065</td>\n",
              "      <td>Vista Alegre</td>\n",
              "      <td>Rio de Janeiro</td>\n",
              "      <td>RJ</td>\n",
              "      <td>8867</td>\n",
              "      <td>724</td>\n",
              "      <td>387</td>\n",
              "      <td>580</td>\n",
              "      <td>565</td>\n",
              "      <td>1205</td>\n",
              "      <td>1812</td>\n",
              "      <td>1474</td>\n",
              "      <td>2120</td>\n",
              "      <td>0</td>\n",
              "      <td>87</td>\n",
              "      <td>556</td>\n",
              "      <td>836</td>\n",
              "      <td>940</td>\n",
              "      <td>484</td>\n",
              "      <td>75</td>\n",
              "      <td>214</td>\n",
              "      <td>2418.0</td>\n",
              "      <td>921875.0</td>\n",
              "    </tr>\n",
              "    <tr>\n",
              "      <th>159</th>\n",
              "      <td>3304557110</td>\n",
              "      <td>Zumbi</td>\n",
              "      <td>Rio de Janeiro</td>\n",
              "      <td>RJ</td>\n",
              "      <td>2072</td>\n",
              "      <td>175</td>\n",
              "      <td>74</td>\n",
              "      <td>120</td>\n",
              "      <td>121</td>\n",
              "      <td>318</td>\n",
              "      <td>417</td>\n",
              "      <td>314</td>\n",
              "      <td>533</td>\n",
              "      <td>0</td>\n",
              "      <td>89</td>\n",
              "      <td>234</td>\n",
              "      <td>177</td>\n",
              "      <td>147</td>\n",
              "      <td>72</td>\n",
              "      <td>10</td>\n",
              "      <td>47</td>\n",
              "      <td>3791.0</td>\n",
              "      <td>919451.0</td>\n",
              "    </tr>\n",
              "  </tbody>\n",
              "</table>\n",
              "<p>160 rows × 23 columns</p>\n",
              "</div>"
            ],
            "text/plain": [
              "         codigo               nome  ... rendaMedia faturamento\n",
              "0    3304557060           Abolição  ...     2501.0    932515.0\n",
              "1    3304557138              Acari  ...      931.0    588833.0\n",
              "2    3304557057         Água Santa  ...     2391.0    874200.0\n",
              "3    3304557031  Alto Da Boa Vista  ...     3727.0    912226.0\n",
              "4    3304557125           Anchieta  ...     1380.0    553020.0\n",
              "..          ...                ...  ...        ...         ...\n",
              "155  3304557062        Vila Kosmos  ...     2316.0    901446.0\n",
              "156  3304557093       Vila Militar  ...     2416.0    849731.0\n",
              "157  3304557091     Vila Valqueire  ...     3189.0   1127042.0\n",
              "158  3304557065       Vista Alegre  ...     2418.0    921875.0\n",
              "159  3304557110              Zumbi  ...     3791.0    919451.0\n",
              "\n",
              "[160 rows x 23 columns]"
            ]
          },
          "metadata": {
            "tags": []
          },
          "execution_count": 6
        }
      ]
    },
    {
      "cell_type": "markdown",
      "metadata": {
        "id": "rL1NkAY6ysdw"
      },
      "source": [
        "##<b>Tratamento dos Dados</b>\n",
        "\n",
        "Verificando registros duplicados"
      ]
    },
    {
      "cell_type": "code",
      "metadata": {
        "colab": {
          "base_uri": "https://localhost:8080/",
          "height": 69
        },
        "id": "5YdSeOHa-WEu",
        "outputId": "f19b2227-e8e3-4fec-be82-4daef6a2f15c"
      },
      "source": [
        "data[data.duplicated(['codigo'], keep=False)]"
      ],
      "execution_count": null,
      "outputs": [
        {
          "output_type": "execute_result",
          "data": {
            "text/html": [
              "<div>\n",
              "<style scoped>\n",
              "    .dataframe tbody tr th:only-of-type {\n",
              "        vertical-align: middle;\n",
              "    }\n",
              "\n",
              "    .dataframe tbody tr th {\n",
              "        vertical-align: top;\n",
              "    }\n",
              "\n",
              "    .dataframe thead th {\n",
              "        text-align: right;\n",
              "    }\n",
              "</style>\n",
              "<table border=\"1\" class=\"dataframe\">\n",
              "  <thead>\n",
              "    <tr style=\"text-align: right;\">\n",
              "      <th></th>\n",
              "      <th>codigo</th>\n",
              "      <th>nome</th>\n",
              "      <th>cidade</th>\n",
              "      <th>estado</th>\n",
              "      <th>população</th>\n",
              "      <th>popAte9</th>\n",
              "      <th>popDe10a14</th>\n",
              "      <th>popDe15a19</th>\n",
              "      <th>popDe20a24</th>\n",
              "      <th>popDe25a34</th>\n",
              "      <th>popDe35a49</th>\n",
              "      <th>popDe50a59</th>\n",
              "      <th>popMaisDe60</th>\n",
              "      <th>domiciliosA1</th>\n",
              "      <th>domiciliosA2</th>\n",
              "      <th>domiciliosB1</th>\n",
              "      <th>domiciliosB2</th>\n",
              "      <th>domiciliosC1</th>\n",
              "      <th>domiciliosC2</th>\n",
              "      <th>domiciliosD</th>\n",
              "      <th>domiciliosE</th>\n",
              "      <th>rendaMedia</th>\n",
              "      <th>faturamento</th>\n",
              "    </tr>\n",
              "  </thead>\n",
              "  <tbody>\n",
              "  </tbody>\n",
              "</table>\n",
              "</div>"
            ],
            "text/plain": [
              "Empty DataFrame\n",
              "Columns: [codigo, nome, cidade, estado, população, popAte9, popDe10a14, popDe15a19, popDe20a24, popDe25a34, popDe35a49, popDe50a59, popMaisDe60, domiciliosA1, domiciliosA2, domiciliosB1, domiciliosB2, domiciliosC1, domiciliosC2, domiciliosD, domiciliosE, rendaMedia, faturamento]\n",
              "Index: []"
            ]
          },
          "metadata": {
            "tags": []
          },
          "execution_count": 7
        }
      ]
    },
    {
      "cell_type": "markdown",
      "metadata": {
        "id": "g4cq4fA048IM"
      },
      "source": [
        "Removendo coluna de códigos"
      ]
    },
    {
      "cell_type": "code",
      "metadata": {
        "id": "1C_oNHLA-T7J"
      },
      "source": [
        "data = data.iloc[:, 1:]"
      ],
      "execution_count": null,
      "outputs": []
    },
    {
      "cell_type": "code",
      "metadata": {
        "colab": {
          "base_uri": "https://localhost:8080/",
          "height": 626
        },
        "id": "Gk5W2TTS5Vyo",
        "outputId": "f7c98f3d-25a0-43e5-ca68-6d671020a1c2"
      },
      "source": [
        "data"
      ],
      "execution_count": null,
      "outputs": [
        {
          "output_type": "execute_result",
          "data": {
            "text/html": [
              "<div>\n",
              "<style scoped>\n",
              "    .dataframe tbody tr th:only-of-type {\n",
              "        vertical-align: middle;\n",
              "    }\n",
              "\n",
              "    .dataframe tbody tr th {\n",
              "        vertical-align: top;\n",
              "    }\n",
              "\n",
              "    .dataframe thead th {\n",
              "        text-align: right;\n",
              "    }\n",
              "</style>\n",
              "<table border=\"1\" class=\"dataframe\">\n",
              "  <thead>\n",
              "    <tr style=\"text-align: right;\">\n",
              "      <th></th>\n",
              "      <th>nome</th>\n",
              "      <th>cidade</th>\n",
              "      <th>estado</th>\n",
              "      <th>população</th>\n",
              "      <th>popAte9</th>\n",
              "      <th>popDe10a14</th>\n",
              "      <th>popDe15a19</th>\n",
              "      <th>popDe20a24</th>\n",
              "      <th>popDe25a34</th>\n",
              "      <th>popDe35a49</th>\n",
              "      <th>popDe50a59</th>\n",
              "      <th>popMaisDe60</th>\n",
              "      <th>domiciliosA1</th>\n",
              "      <th>domiciliosA2</th>\n",
              "      <th>domiciliosB1</th>\n",
              "      <th>domiciliosB2</th>\n",
              "      <th>domiciliosC1</th>\n",
              "      <th>domiciliosC2</th>\n",
              "      <th>domiciliosD</th>\n",
              "      <th>domiciliosE</th>\n",
              "      <th>rendaMedia</th>\n",
              "      <th>faturamento</th>\n",
              "    </tr>\n",
              "  </thead>\n",
              "  <tbody>\n",
              "    <tr>\n",
              "      <th>0</th>\n",
              "      <td>Abolição</td>\n",
              "      <td>Rio de Janeiro</td>\n",
              "      <td>RJ</td>\n",
              "      <td>11676</td>\n",
              "      <td>1027</td>\n",
              "      <td>483</td>\n",
              "      <td>688</td>\n",
              "      <td>800</td>\n",
              "      <td>1675</td>\n",
              "      <td>2300</td>\n",
              "      <td>1784</td>\n",
              "      <td>2919</td>\n",
              "      <td>0</td>\n",
              "      <td>145</td>\n",
              "      <td>715</td>\n",
              "      <td>1242</td>\n",
              "      <td>1093</td>\n",
              "      <td>758</td>\n",
              "      <td>92</td>\n",
              "      <td>304</td>\n",
              "      <td>2501.0</td>\n",
              "      <td>932515.0</td>\n",
              "    </tr>\n",
              "    <tr>\n",
              "      <th>1</th>\n",
              "      <td>Acari</td>\n",
              "      <td>Rio de Janeiro</td>\n",
              "      <td>RJ</td>\n",
              "      <td>27564</td>\n",
              "      <td>5131</td>\n",
              "      <td>2188</td>\n",
              "      <td>2697</td>\n",
              "      <td>2630</td>\n",
              "      <td>4810</td>\n",
              "      <td>5308</td>\n",
              "      <td>2403</td>\n",
              "      <td>2397</td>\n",
              "      <td>0</td>\n",
              "      <td>0</td>\n",
              "      <td>82</td>\n",
              "      <td>506</td>\n",
              "      <td>2040</td>\n",
              "      <td>2490</td>\n",
              "      <td>827</td>\n",
              "      <td>2506</td>\n",
              "      <td>931.0</td>\n",
              "      <td>588833.0</td>\n",
              "    </tr>\n",
              "    <tr>\n",
              "      <th>2</th>\n",
              "      <td>Água Santa</td>\n",
              "      <td>Rio de Janeiro</td>\n",
              "      <td>RJ</td>\n",
              "      <td>9003</td>\n",
              "      <td>883</td>\n",
              "      <td>399</td>\n",
              "      <td>597</td>\n",
              "      <td>762</td>\n",
              "      <td>1755</td>\n",
              "      <td>2076</td>\n",
              "      <td>1112</td>\n",
              "      <td>1419</td>\n",
              "      <td>0</td>\n",
              "      <td>96</td>\n",
              "      <td>404</td>\n",
              "      <td>652</td>\n",
              "      <td>644</td>\n",
              "      <td>522</td>\n",
              "      <td>77</td>\n",
              "      <td>254</td>\n",
              "      <td>2391.0</td>\n",
              "      <td>874200.0</td>\n",
              "    </tr>\n",
              "    <tr>\n",
              "      <th>3</th>\n",
              "      <td>Alto Da Boa Vista</td>\n",
              "      <td>Rio de Janeiro</td>\n",
              "      <td>RJ</td>\n",
              "      <td>9606</td>\n",
              "      <td>1072</td>\n",
              "      <td>538</td>\n",
              "      <td>660</td>\n",
              "      <td>685</td>\n",
              "      <td>1317</td>\n",
              "      <td>2007</td>\n",
              "      <td>1341</td>\n",
              "      <td>1986</td>\n",
              "      <td>114</td>\n",
              "      <td>178</td>\n",
              "      <td>393</td>\n",
              "      <td>517</td>\n",
              "      <td>945</td>\n",
              "      <td>584</td>\n",
              "      <td>137</td>\n",
              "      <td>286</td>\n",
              "      <td>3727.0</td>\n",
              "      <td>912226.0</td>\n",
              "    </tr>\n",
              "    <tr>\n",
              "      <th>4</th>\n",
              "      <td>Anchieta</td>\n",
              "      <td>Rio de Janeiro</td>\n",
              "      <td>RJ</td>\n",
              "      <td>57222</td>\n",
              "      <td>7677</td>\n",
              "      <td>3774</td>\n",
              "      <td>4892</td>\n",
              "      <td>4600</td>\n",
              "      <td>8660</td>\n",
              "      <td>12272</td>\n",
              "      <td>7157</td>\n",
              "      <td>8190</td>\n",
              "      <td>0</td>\n",
              "      <td>0</td>\n",
              "      <td>1089</td>\n",
              "      <td>2821</td>\n",
              "      <td>5110</td>\n",
              "      <td>5422</td>\n",
              "      <td>1073</td>\n",
              "      <td>3261</td>\n",
              "      <td>1380.0</td>\n",
              "      <td>553020.0</td>\n",
              "    </tr>\n",
              "    <tr>\n",
              "      <th>...</th>\n",
              "      <td>...</td>\n",
              "      <td>...</td>\n",
              "      <td>...</td>\n",
              "      <td>...</td>\n",
              "      <td>...</td>\n",
              "      <td>...</td>\n",
              "      <td>...</td>\n",
              "      <td>...</td>\n",
              "      <td>...</td>\n",
              "      <td>...</td>\n",
              "      <td>...</td>\n",
              "      <td>...</td>\n",
              "      <td>...</td>\n",
              "      <td>...</td>\n",
              "      <td>...</td>\n",
              "      <td>...</td>\n",
              "      <td>...</td>\n",
              "      <td>...</td>\n",
              "      <td>...</td>\n",
              "      <td>...</td>\n",
              "      <td>...</td>\n",
              "      <td>...</td>\n",
              "    </tr>\n",
              "    <tr>\n",
              "      <th>155</th>\n",
              "      <td>Vila Kosmos</td>\n",
              "      <td>Rio de Janeiro</td>\n",
              "      <td>RJ</td>\n",
              "      <td>18791</td>\n",
              "      <td>1802</td>\n",
              "      <td>921</td>\n",
              "      <td>1442</td>\n",
              "      <td>1462</td>\n",
              "      <td>2500</td>\n",
              "      <td>3944</td>\n",
              "      <td>2920</td>\n",
              "      <td>3800</td>\n",
              "      <td>0</td>\n",
              "      <td>259</td>\n",
              "      <td>774</td>\n",
              "      <td>1363</td>\n",
              "      <td>1923</td>\n",
              "      <td>1379</td>\n",
              "      <td>190</td>\n",
              "      <td>405</td>\n",
              "      <td>2316.0</td>\n",
              "      <td>901446.0</td>\n",
              "    </tr>\n",
              "    <tr>\n",
              "      <th>156</th>\n",
              "      <td>Vila Militar</td>\n",
              "      <td>Rio de Janeiro</td>\n",
              "      <td>RJ</td>\n",
              "      <td>13556</td>\n",
              "      <td>1888</td>\n",
              "      <td>787</td>\n",
              "      <td>1042</td>\n",
              "      <td>982</td>\n",
              "      <td>2542</td>\n",
              "      <td>2908</td>\n",
              "      <td>1528</td>\n",
              "      <td>1879</td>\n",
              "      <td>0</td>\n",
              "      <td>219</td>\n",
              "      <td>714</td>\n",
              "      <td>828</td>\n",
              "      <td>1051</td>\n",
              "      <td>1012</td>\n",
              "      <td>116</td>\n",
              "      <td>465</td>\n",
              "      <td>2416.0</td>\n",
              "      <td>849731.0</td>\n",
              "    </tr>\n",
              "    <tr>\n",
              "      <th>157</th>\n",
              "      <td>Vila Valqueire</td>\n",
              "      <td>Rio de Janeiro</td>\n",
              "      <td>RJ</td>\n",
              "      <td>33190</td>\n",
              "      <td>3166</td>\n",
              "      <td>1619</td>\n",
              "      <td>2255</td>\n",
              "      <td>2326</td>\n",
              "      <td>4752</td>\n",
              "      <td>7183</td>\n",
              "      <td>4950</td>\n",
              "      <td>6939</td>\n",
              "      <td>0</td>\n",
              "      <td>906</td>\n",
              "      <td>2866</td>\n",
              "      <td>2241</td>\n",
              "      <td>2982</td>\n",
              "      <td>1200</td>\n",
              "      <td>360</td>\n",
              "      <td>772</td>\n",
              "      <td>3189.0</td>\n",
              "      <td>1127042.0</td>\n",
              "    </tr>\n",
              "    <tr>\n",
              "      <th>158</th>\n",
              "      <td>Vista Alegre</td>\n",
              "      <td>Rio de Janeiro</td>\n",
              "      <td>RJ</td>\n",
              "      <td>8867</td>\n",
              "      <td>724</td>\n",
              "      <td>387</td>\n",
              "      <td>580</td>\n",
              "      <td>565</td>\n",
              "      <td>1205</td>\n",
              "      <td>1812</td>\n",
              "      <td>1474</td>\n",
              "      <td>2120</td>\n",
              "      <td>0</td>\n",
              "      <td>87</td>\n",
              "      <td>556</td>\n",
              "      <td>836</td>\n",
              "      <td>940</td>\n",
              "      <td>484</td>\n",
              "      <td>75</td>\n",
              "      <td>214</td>\n",
              "      <td>2418.0</td>\n",
              "      <td>921875.0</td>\n",
              "    </tr>\n",
              "    <tr>\n",
              "      <th>159</th>\n",
              "      <td>Zumbi</td>\n",
              "      <td>Rio de Janeiro</td>\n",
              "      <td>RJ</td>\n",
              "      <td>2072</td>\n",
              "      <td>175</td>\n",
              "      <td>74</td>\n",
              "      <td>120</td>\n",
              "      <td>121</td>\n",
              "      <td>318</td>\n",
              "      <td>417</td>\n",
              "      <td>314</td>\n",
              "      <td>533</td>\n",
              "      <td>0</td>\n",
              "      <td>89</td>\n",
              "      <td>234</td>\n",
              "      <td>177</td>\n",
              "      <td>147</td>\n",
              "      <td>72</td>\n",
              "      <td>10</td>\n",
              "      <td>47</td>\n",
              "      <td>3791.0</td>\n",
              "      <td>919451.0</td>\n",
              "    </tr>\n",
              "  </tbody>\n",
              "</table>\n",
              "<p>160 rows × 22 columns</p>\n",
              "</div>"
            ],
            "text/plain": [
              "                  nome          cidade  ... rendaMedia  faturamento\n",
              "0             Abolição  Rio de Janeiro  ...     2501.0     932515.0\n",
              "1                Acari  Rio de Janeiro  ...      931.0     588833.0\n",
              "2           Água Santa  Rio de Janeiro  ...     2391.0     874200.0\n",
              "3    Alto Da Boa Vista  Rio de Janeiro  ...     3727.0     912226.0\n",
              "4             Anchieta  Rio de Janeiro  ...     1380.0     553020.0\n",
              "..                 ...             ...  ...        ...          ...\n",
              "155        Vila Kosmos  Rio de Janeiro  ...     2316.0     901446.0\n",
              "156       Vila Militar  Rio de Janeiro  ...     2416.0     849731.0\n",
              "157     Vila Valqueire  Rio de Janeiro  ...     3189.0    1127042.0\n",
              "158       Vista Alegre  Rio de Janeiro  ...     2418.0     921875.0\n",
              "159              Zumbi  Rio de Janeiro  ...     3791.0     919451.0\n",
              "\n",
              "[160 rows x 22 columns]"
            ]
          },
          "metadata": {
            "tags": []
          },
          "execution_count": 9
        }
      ]
    },
    {
      "cell_type": "markdown",
      "metadata": {
        "id": "Gs5ppp2O84wA"
      },
      "source": [
        "Verificando se os tipos de dados estão certos para cada coluna"
      ]
    },
    {
      "cell_type": "code",
      "metadata": {
        "colab": {
          "base_uri": "https://localhost:8080/"
        },
        "id": "4mYCfqOhz9As",
        "outputId": "5e6169e7-79a7-41f6-c3c7-344b6de20b54"
      },
      "source": [
        "data.dtypes"
      ],
      "execution_count": null,
      "outputs": [
        {
          "output_type": "execute_result",
          "data": {
            "text/plain": [
              "nome             object\n",
              "cidade           object\n",
              "estado           object\n",
              "população         int64\n",
              "popAte9           int64\n",
              "popDe10a14        int64\n",
              "popDe15a19        int64\n",
              "popDe20a24        int64\n",
              "popDe25a34        int64\n",
              "popDe35a49        int64\n",
              "popDe50a59        int64\n",
              "popMaisDe60       int64\n",
              "domiciliosA1      int64\n",
              "domiciliosA2      int64\n",
              "domiciliosB1      int64\n",
              "domiciliosB2      int64\n",
              "domiciliosC1      int64\n",
              "domiciliosC2      int64\n",
              "domiciliosD       int64\n",
              "domiciliosE       int64\n",
              "rendaMedia      float64\n",
              "faturamento     float64\n",
              "dtype: object"
            ]
          },
          "metadata": {
            "tags": []
          },
          "execution_count": 10
        }
      ]
    },
    {
      "cell_type": "markdown",
      "metadata": {
        "id": "KTBqxraj2rVw"
      },
      "source": [
        "Verificando valores negativos ou inválidos nos dados"
      ]
    },
    {
      "cell_type": "code",
      "metadata": {
        "colab": {
          "base_uri": "https://localhost:8080/"
        },
        "id": "WEWiRSVy2A2y",
        "outputId": "6ab267b8-2a4f-4265-a20f-09966304b732"
      },
      "source": [
        "data.isnull().sum()"
      ],
      "execution_count": null,
      "outputs": [
        {
          "output_type": "execute_result",
          "data": {
            "text/plain": [
              "nome            0\n",
              "cidade          0\n",
              "estado          0\n",
              "população       0\n",
              "popAte9         0\n",
              "popDe10a14      0\n",
              "popDe15a19      0\n",
              "popDe20a24      0\n",
              "popDe25a34      0\n",
              "popDe35a49      0\n",
              "popDe50a59      0\n",
              "popMaisDe60     0\n",
              "domiciliosA1    0\n",
              "domiciliosA2    0\n",
              "domiciliosB1    0\n",
              "domiciliosB2    0\n",
              "domiciliosC1    0\n",
              "domiciliosC2    0\n",
              "domiciliosD     0\n",
              "domiciliosE     0\n",
              "rendaMedia      6\n",
              "faturamento     0\n",
              "dtype: int64"
            ]
          },
          "metadata": {
            "tags": []
          },
          "execution_count": 11
        }
      ]
    },
    {
      "cell_type": "markdown",
      "metadata": {
        "id": "VZvPFczByMx8"
      },
      "source": [
        "<h3>Variáveis Qualitativas</h3>\n",
        "\n",
        "Variável <b>cidade</b> e <b>estado</b> oferecem a mesma informação\n",
        "\n"
      ]
    },
    {
      "cell_type": "code",
      "metadata": {
        "colab": {
          "base_uri": "https://localhost:8080/"
        },
        "id": "hEI2Fehc3wQH",
        "outputId": "2dae69bd-f9a1-4bad-ba98-b01bd9f43ce9"
      },
      "source": [
        "data.columns"
      ],
      "execution_count": null,
      "outputs": [
        {
          "output_type": "execute_result",
          "data": {
            "text/plain": [
              "Index(['nome', 'cidade', 'estado', 'população', 'popAte9', 'popDe10a14',\n",
              "       'popDe15a19', 'popDe20a24', 'popDe25a34', 'popDe35a49', 'popDe50a59',\n",
              "       'popMaisDe60', 'domiciliosA1', 'domiciliosA2', 'domiciliosB1',\n",
              "       'domiciliosB2', 'domiciliosC1', 'domiciliosC2', 'domiciliosD',\n",
              "       'domiciliosE', 'rendaMedia', 'faturamento'],\n",
              "      dtype='object')"
            ]
          },
          "metadata": {
            "tags": []
          },
          "execution_count": 12
        }
      ]
    },
    {
      "cell_type": "code",
      "metadata": {
        "colab": {
          "base_uri": "https://localhost:8080/"
        },
        "id": "mwIWYVLN6SRU",
        "outputId": "777e80a6-4230-4114-91de-2ea71b082cf7"
      },
      "source": [
        "data['cidade'].unique()"
      ],
      "execution_count": null,
      "outputs": [
        {
          "output_type": "execute_result",
          "data": {
            "text/plain": [
              "array(['Rio de Janeiro'], dtype=object)"
            ]
          },
          "metadata": {
            "tags": []
          },
          "execution_count": 13
        }
      ]
    },
    {
      "cell_type": "code",
      "metadata": {
        "colab": {
          "base_uri": "https://localhost:8080/"
        },
        "id": "4k3ycLhS6VsE",
        "outputId": "4c279315-d4ce-494c-ec13-cc04cb2ab27a"
      },
      "source": [
        "data['estado'].unique()"
      ],
      "execution_count": null,
      "outputs": [
        {
          "output_type": "execute_result",
          "data": {
            "text/plain": [
              "array(['RJ'], dtype=object)"
            ]
          },
          "metadata": {
            "tags": []
          },
          "execution_count": 14
        }
      ]
    },
    {
      "cell_type": "markdown",
      "metadata": {
        "id": "4QSBfNwn6Ixz"
      },
      "source": [
        "<h3>Variáveis Quantitativa</h3>\n",
        "\n",
        "Colunas da informação Renda Média possui dados nulos"
      ]
    },
    {
      "cell_type": "code",
      "metadata": {
        "colab": {
          "base_uri": "https://localhost:8080/"
        },
        "id": "6VNd8S9K3wba",
        "outputId": "ff97b102-b227-4b93-921a-ebe4a8caf1ea"
      },
      "source": [
        "data.iloc[:,4:].isnull().sum()"
      ],
      "execution_count": null,
      "outputs": [
        {
          "output_type": "execute_result",
          "data": {
            "text/plain": [
              "popAte9         0\n",
              "popDe10a14      0\n",
              "popDe15a19      0\n",
              "popDe20a24      0\n",
              "popDe25a34      0\n",
              "popDe35a49      0\n",
              "popDe50a59      0\n",
              "popMaisDe60     0\n",
              "domiciliosA1    0\n",
              "domiciliosA2    0\n",
              "domiciliosB1    0\n",
              "domiciliosB2    0\n",
              "domiciliosC1    0\n",
              "domiciliosC2    0\n",
              "domiciliosD     0\n",
              "domiciliosE     0\n",
              "rendaMedia      6\n",
              "faturamento     0\n",
              "dtype: int64"
            ]
          },
          "metadata": {
            "tags": []
          },
          "execution_count": 15
        }
      ]
    },
    {
      "cell_type": "markdown",
      "metadata": {
        "id": "-d-yAYagMx-X"
      },
      "source": [
        "Removendo valores nulos da coluna Renda Media"
      ]
    },
    {
      "cell_type": "code",
      "metadata": {
        "id": "Et-mxNe9MJm8"
      },
      "source": [
        "data = data.dropna()"
      ],
      "execution_count": null,
      "outputs": []
    },
    {
      "cell_type": "code",
      "metadata": {
        "colab": {
          "base_uri": "https://localhost:8080/"
        },
        "id": "03E7KmZOMiFN",
        "outputId": "39f6f842-183c-46bc-ddcc-a0dacbe927ea"
      },
      "source": [
        "data.iloc[:,4:].isnull().sum()"
      ],
      "execution_count": null,
      "outputs": [
        {
          "output_type": "execute_result",
          "data": {
            "text/plain": [
              "popAte9         0\n",
              "popDe10a14      0\n",
              "popDe15a19      0\n",
              "popDe20a24      0\n",
              "popDe25a34      0\n",
              "popDe35a49      0\n",
              "popDe50a59      0\n",
              "popMaisDe60     0\n",
              "domiciliosA1    0\n",
              "domiciliosA2    0\n",
              "domiciliosB1    0\n",
              "domiciliosB2    0\n",
              "domiciliosC1    0\n",
              "domiciliosC2    0\n",
              "domiciliosD     0\n",
              "domiciliosE     0\n",
              "rendaMedia      0\n",
              "faturamento     0\n",
              "dtype: int64"
            ]
          },
          "metadata": {
            "tags": []
          },
          "execution_count": 17
        }
      ]
    },
    {
      "cell_type": "code",
      "metadata": {
        "colab": {
          "base_uri": "https://localhost:8080/"
        },
        "id": "T7Q7IkuG3wdy",
        "outputId": "168b7d4c-f9cd-4c40-f1d8-31b39e77fe1a"
      },
      "source": [
        "np.median(a = data['rendaMedia'])"
      ],
      "execution_count": null,
      "outputs": [
        {
          "output_type": "execute_result",
          "data": {
            "text/plain": [
              "1915.5"
            ]
          },
          "metadata": {
            "tags": []
          },
          "execution_count": 18
        }
      ]
    },
    {
      "cell_type": "code",
      "metadata": {
        "colab": {
          "base_uri": "https://localhost:8080/"
        },
        "id": "6TTh3Mcj_T55",
        "outputId": "f2b9b887-0e58-4523-8f65-fc5820c0c446"
      },
      "source": [
        "np.std(a = data['rendaMedia'])"
      ],
      "execution_count": null,
      "outputs": [
        {
          "output_type": "execute_result",
          "data": {
            "text/plain": [
              "6072.054308129331"
            ]
          },
          "metadata": {
            "tags": []
          },
          "execution_count": 19
        }
      ]
    },
    {
      "cell_type": "code",
      "metadata": {
        "colab": {
          "base_uri": "https://localhost:8080/",
          "height": 470
        },
        "id": "IQTPVMUD3wgW",
        "outputId": "5d2fcef7-8c78-4c90-af16-d788b5cd8ea4"
      },
      "source": [
        "data.loc[data['rendaMedia'] >= 2 * np.std(a = data['rendaMedia'])]"
      ],
      "execution_count": null,
      "outputs": [
        {
          "output_type": "execute_result",
          "data": {
            "text/html": [
              "<div>\n",
              "<style scoped>\n",
              "    .dataframe tbody tr th:only-of-type {\n",
              "        vertical-align: middle;\n",
              "    }\n",
              "\n",
              "    .dataframe tbody tr th {\n",
              "        vertical-align: top;\n",
              "    }\n",
              "\n",
              "    .dataframe thead th {\n",
              "        text-align: right;\n",
              "    }\n",
              "</style>\n",
              "<table border=\"1\" class=\"dataframe\">\n",
              "  <thead>\n",
              "    <tr style=\"text-align: right;\">\n",
              "      <th></th>\n",
              "      <th>nome</th>\n",
              "      <th>cidade</th>\n",
              "      <th>estado</th>\n",
              "      <th>população</th>\n",
              "      <th>popAte9</th>\n",
              "      <th>popDe10a14</th>\n",
              "      <th>popDe15a19</th>\n",
              "      <th>popDe20a24</th>\n",
              "      <th>popDe25a34</th>\n",
              "      <th>popDe35a49</th>\n",
              "      <th>popDe50a59</th>\n",
              "      <th>popMaisDe60</th>\n",
              "      <th>domiciliosA1</th>\n",
              "      <th>domiciliosA2</th>\n",
              "      <th>domiciliosB1</th>\n",
              "      <th>domiciliosB2</th>\n",
              "      <th>domiciliosC1</th>\n",
              "      <th>domiciliosC2</th>\n",
              "      <th>domiciliosD</th>\n",
              "      <th>domiciliosE</th>\n",
              "      <th>rendaMedia</th>\n",
              "      <th>faturamento</th>\n",
              "    </tr>\n",
              "  </thead>\n",
              "  <tbody>\n",
              "    <tr>\n",
              "      <th>9</th>\n",
              "      <td>Barra Da Tijuca</td>\n",
              "      <td>Rio de Janeiro</td>\n",
              "      <td>RJ</td>\n",
              "      <td>139761</td>\n",
              "      <td>13038</td>\n",
              "      <td>5225</td>\n",
              "      <td>7432</td>\n",
              "      <td>8627</td>\n",
              "      <td>21914</td>\n",
              "      <td>32089</td>\n",
              "      <td>21058</td>\n",
              "      <td>30378</td>\n",
              "      <td>13408</td>\n",
              "      <td>11668</td>\n",
              "      <td>14820</td>\n",
              "      <td>5205</td>\n",
              "      <td>3437</td>\n",
              "      <td>1841</td>\n",
              "      <td>0</td>\n",
              "      <td>3897</td>\n",
              "      <td>18084.0</td>\n",
              "      <td>2915612.0</td>\n",
              "    </tr>\n",
              "    <tr>\n",
              "      <th>56</th>\n",
              "      <td>Gávea</td>\n",
              "      <td>Rio de Janeiro</td>\n",
              "      <td>RJ</td>\n",
              "      <td>16455</td>\n",
              "      <td>1210</td>\n",
              "      <td>546</td>\n",
              "      <td>869</td>\n",
              "      <td>1162</td>\n",
              "      <td>2518</td>\n",
              "      <td>3307</td>\n",
              "      <td>2575</td>\n",
              "      <td>4268</td>\n",
              "      <td>1343</td>\n",
              "      <td>1173</td>\n",
              "      <td>1766</td>\n",
              "      <td>979</td>\n",
              "      <td>776</td>\n",
              "      <td>457</td>\n",
              "      <td>0</td>\n",
              "      <td>311</td>\n",
              "      <td>16449.0</td>\n",
              "      <td>1430429.0</td>\n",
              "    </tr>\n",
              "    <tr>\n",
              "      <th>68</th>\n",
              "      <td>Ipanema</td>\n",
              "      <td>Rio de Janeiro</td>\n",
              "      <td>RJ</td>\n",
              "      <td>43948</td>\n",
              "      <td>3061</td>\n",
              "      <td>1311</td>\n",
              "      <td>1957</td>\n",
              "      <td>2395</td>\n",
              "      <td>5854</td>\n",
              "      <td>8665</td>\n",
              "      <td>6344</td>\n",
              "      <td>14361</td>\n",
              "      <td>4213</td>\n",
              "      <td>3432</td>\n",
              "      <td>4478</td>\n",
              "      <td>2323</td>\n",
              "      <td>2141</td>\n",
              "      <td>1369</td>\n",
              "      <td>117</td>\n",
              "      <td>1460</td>\n",
              "      <td>17188.0</td>\n",
              "      <td>1962438.0</td>\n",
              "    </tr>\n",
              "    <tr>\n",
              "      <th>75</th>\n",
              "      <td>Jardim Botânico</td>\n",
              "      <td>Rio de Janeiro</td>\n",
              "      <td>RJ</td>\n",
              "      <td>18517</td>\n",
              "      <td>1602</td>\n",
              "      <td>664</td>\n",
              "      <td>945</td>\n",
              "      <td>1008</td>\n",
              "      <td>2788</td>\n",
              "      <td>4135</td>\n",
              "      <td>2822</td>\n",
              "      <td>4553</td>\n",
              "      <td>1641</td>\n",
              "      <td>1273</td>\n",
              "      <td>1913</td>\n",
              "      <td>1108</td>\n",
              "      <td>815</td>\n",
              "      <td>361</td>\n",
              "      <td>0</td>\n",
              "      <td>289</td>\n",
              "      <td>17984.0</td>\n",
              "      <td>1491476.0</td>\n",
              "    </tr>\n",
              "    <tr>\n",
              "      <th>79</th>\n",
              "      <td>Joá</td>\n",
              "      <td>Rio de Janeiro</td>\n",
              "      <td>RJ</td>\n",
              "      <td>842</td>\n",
              "      <td>61</td>\n",
              "      <td>29</td>\n",
              "      <td>35</td>\n",
              "      <td>46</td>\n",
              "      <td>131</td>\n",
              "      <td>192</td>\n",
              "      <td>132</td>\n",
              "      <td>216</td>\n",
              "      <td>79</td>\n",
              "      <td>59</td>\n",
              "      <td>57</td>\n",
              "      <td>33</td>\n",
              "      <td>7</td>\n",
              "      <td>8</td>\n",
              "      <td>0</td>\n",
              "      <td>20</td>\n",
              "      <td>17659.0</td>\n",
              "      <td>1162364.0</td>\n",
              "    </tr>\n",
              "    <tr>\n",
              "      <th>80</th>\n",
              "      <td>Lagoa</td>\n",
              "      <td>Rio de Janeiro</td>\n",
              "      <td>RJ</td>\n",
              "      <td>21795</td>\n",
              "      <td>1794</td>\n",
              "      <td>708</td>\n",
              "      <td>1054</td>\n",
              "      <td>1252</td>\n",
              "      <td>2943</td>\n",
              "      <td>4812</td>\n",
              "      <td>3594</td>\n",
              "      <td>5638</td>\n",
              "      <td>2916</td>\n",
              "      <td>2140</td>\n",
              "      <td>1931</td>\n",
              "      <td>697</td>\n",
              "      <td>365</td>\n",
              "      <td>306</td>\n",
              "      <td>0</td>\n",
              "      <td>469</td>\n",
              "      <td>63887.0</td>\n",
              "      <td>1775547.0</td>\n",
              "    </tr>\n",
              "    <tr>\n",
              "      <th>82</th>\n",
              "      <td>Leblon</td>\n",
              "      <td>Rio de Janeiro</td>\n",
              "      <td>RJ</td>\n",
              "      <td>47342</td>\n",
              "      <td>3134</td>\n",
              "      <td>1380</td>\n",
              "      <td>2131</td>\n",
              "      <td>2390</td>\n",
              "      <td>6177</td>\n",
              "      <td>9519</td>\n",
              "      <td>7181</td>\n",
              "      <td>15430</td>\n",
              "      <td>5423</td>\n",
              "      <td>3532</td>\n",
              "      <td>5342</td>\n",
              "      <td>1863</td>\n",
              "      <td>1890</td>\n",
              "      <td>917</td>\n",
              "      <td>217</td>\n",
              "      <td>1595</td>\n",
              "      <td>14738.0</td>\n",
              "      <td>2119774.0</td>\n",
              "    </tr>\n",
              "    <tr>\n",
              "      <th>131</th>\n",
              "      <td>São Conrado</td>\n",
              "      <td>Rio de Janeiro</td>\n",
              "      <td>RJ</td>\n",
              "      <td>11290</td>\n",
              "      <td>885</td>\n",
              "      <td>500</td>\n",
              "      <td>661</td>\n",
              "      <td>726</td>\n",
              "      <td>1464</td>\n",
              "      <td>2463</td>\n",
              "      <td>1741</td>\n",
              "      <td>2850</td>\n",
              "      <td>939</td>\n",
              "      <td>956</td>\n",
              "      <td>744</td>\n",
              "      <td>418</td>\n",
              "      <td>432</td>\n",
              "      <td>356</td>\n",
              "      <td>37</td>\n",
              "      <td>207</td>\n",
              "      <td>17650.0</td>\n",
              "      <td>1330747.0</td>\n",
              "    </tr>\n",
              "  </tbody>\n",
              "</table>\n",
              "</div>"
            ],
            "text/plain": [
              "                nome          cidade  ... rendaMedia  faturamento\n",
              "9    Barra Da Tijuca  Rio de Janeiro  ...    18084.0    2915612.0\n",
              "56             Gávea  Rio de Janeiro  ...    16449.0    1430429.0\n",
              "68           Ipanema  Rio de Janeiro  ...    17188.0    1962438.0\n",
              "75   Jardim Botânico  Rio de Janeiro  ...    17984.0    1491476.0\n",
              "79               Joá  Rio de Janeiro  ...    17659.0    1162364.0\n",
              "80             Lagoa  Rio de Janeiro  ...    63887.0    1775547.0\n",
              "82            Leblon  Rio de Janeiro  ...    14738.0    2119774.0\n",
              "131      São Conrado  Rio de Janeiro  ...    17650.0    1330747.0\n",
              "\n",
              "[8 rows x 22 columns]"
            ]
          },
          "metadata": {
            "tags": []
          },
          "execution_count": 20
        }
      ]
    },
    {
      "cell_type": "markdown",
      "metadata": {
        "id": "ELxUYid_yzs-"
      },
      "source": [
        "##<b>Análise dos Dados</b>\n",
        "\n",
        "Realizando o tratamento dos dados, ao colocar as colunas, percebi que os dados não estão normalmente distribuidos e os valores que estão deixando o gráfico dessa forma é um grupo relevante para a análise."
      ]
    },
    {
      "cell_type": "code",
      "metadata": {
        "colab": {
          "base_uri": "https://localhost:8080/",
          "height": 626
        },
        "id": "EDjyJZwDBqGi",
        "outputId": "3f294988-e450-44cb-f38f-e2ecb58f3f21"
      },
      "source": [
        "data"
      ],
      "execution_count": null,
      "outputs": [
        {
          "output_type": "execute_result",
          "data": {
            "text/html": [
              "<div>\n",
              "<style scoped>\n",
              "    .dataframe tbody tr th:only-of-type {\n",
              "        vertical-align: middle;\n",
              "    }\n",
              "\n",
              "    .dataframe tbody tr th {\n",
              "        vertical-align: top;\n",
              "    }\n",
              "\n",
              "    .dataframe thead th {\n",
              "        text-align: right;\n",
              "    }\n",
              "</style>\n",
              "<table border=\"1\" class=\"dataframe\">\n",
              "  <thead>\n",
              "    <tr style=\"text-align: right;\">\n",
              "      <th></th>\n",
              "      <th>nome</th>\n",
              "      <th>cidade</th>\n",
              "      <th>estado</th>\n",
              "      <th>população</th>\n",
              "      <th>popAte9</th>\n",
              "      <th>popDe10a14</th>\n",
              "      <th>popDe15a19</th>\n",
              "      <th>popDe20a24</th>\n",
              "      <th>popDe25a34</th>\n",
              "      <th>popDe35a49</th>\n",
              "      <th>popDe50a59</th>\n",
              "      <th>popMaisDe60</th>\n",
              "      <th>domiciliosA1</th>\n",
              "      <th>domiciliosA2</th>\n",
              "      <th>domiciliosB1</th>\n",
              "      <th>domiciliosB2</th>\n",
              "      <th>domiciliosC1</th>\n",
              "      <th>domiciliosC2</th>\n",
              "      <th>domiciliosD</th>\n",
              "      <th>domiciliosE</th>\n",
              "      <th>rendaMedia</th>\n",
              "      <th>faturamento</th>\n",
              "    </tr>\n",
              "  </thead>\n",
              "  <tbody>\n",
              "    <tr>\n",
              "      <th>0</th>\n",
              "      <td>Abolição</td>\n",
              "      <td>Rio de Janeiro</td>\n",
              "      <td>RJ</td>\n",
              "      <td>11676</td>\n",
              "      <td>1027</td>\n",
              "      <td>483</td>\n",
              "      <td>688</td>\n",
              "      <td>800</td>\n",
              "      <td>1675</td>\n",
              "      <td>2300</td>\n",
              "      <td>1784</td>\n",
              "      <td>2919</td>\n",
              "      <td>0</td>\n",
              "      <td>145</td>\n",
              "      <td>715</td>\n",
              "      <td>1242</td>\n",
              "      <td>1093</td>\n",
              "      <td>758</td>\n",
              "      <td>92</td>\n",
              "      <td>304</td>\n",
              "      <td>2501.0</td>\n",
              "      <td>932515.0</td>\n",
              "    </tr>\n",
              "    <tr>\n",
              "      <th>1</th>\n",
              "      <td>Acari</td>\n",
              "      <td>Rio de Janeiro</td>\n",
              "      <td>RJ</td>\n",
              "      <td>27564</td>\n",
              "      <td>5131</td>\n",
              "      <td>2188</td>\n",
              "      <td>2697</td>\n",
              "      <td>2630</td>\n",
              "      <td>4810</td>\n",
              "      <td>5308</td>\n",
              "      <td>2403</td>\n",
              "      <td>2397</td>\n",
              "      <td>0</td>\n",
              "      <td>0</td>\n",
              "      <td>82</td>\n",
              "      <td>506</td>\n",
              "      <td>2040</td>\n",
              "      <td>2490</td>\n",
              "      <td>827</td>\n",
              "      <td>2506</td>\n",
              "      <td>931.0</td>\n",
              "      <td>588833.0</td>\n",
              "    </tr>\n",
              "    <tr>\n",
              "      <th>2</th>\n",
              "      <td>Água Santa</td>\n",
              "      <td>Rio de Janeiro</td>\n",
              "      <td>RJ</td>\n",
              "      <td>9003</td>\n",
              "      <td>883</td>\n",
              "      <td>399</td>\n",
              "      <td>597</td>\n",
              "      <td>762</td>\n",
              "      <td>1755</td>\n",
              "      <td>2076</td>\n",
              "      <td>1112</td>\n",
              "      <td>1419</td>\n",
              "      <td>0</td>\n",
              "      <td>96</td>\n",
              "      <td>404</td>\n",
              "      <td>652</td>\n",
              "      <td>644</td>\n",
              "      <td>522</td>\n",
              "      <td>77</td>\n",
              "      <td>254</td>\n",
              "      <td>2391.0</td>\n",
              "      <td>874200.0</td>\n",
              "    </tr>\n",
              "    <tr>\n",
              "      <th>3</th>\n",
              "      <td>Alto Da Boa Vista</td>\n",
              "      <td>Rio de Janeiro</td>\n",
              "      <td>RJ</td>\n",
              "      <td>9606</td>\n",
              "      <td>1072</td>\n",
              "      <td>538</td>\n",
              "      <td>660</td>\n",
              "      <td>685</td>\n",
              "      <td>1317</td>\n",
              "      <td>2007</td>\n",
              "      <td>1341</td>\n",
              "      <td>1986</td>\n",
              "      <td>114</td>\n",
              "      <td>178</td>\n",
              "      <td>393</td>\n",
              "      <td>517</td>\n",
              "      <td>945</td>\n",
              "      <td>584</td>\n",
              "      <td>137</td>\n",
              "      <td>286</td>\n",
              "      <td>3727.0</td>\n",
              "      <td>912226.0</td>\n",
              "    </tr>\n",
              "    <tr>\n",
              "      <th>4</th>\n",
              "      <td>Anchieta</td>\n",
              "      <td>Rio de Janeiro</td>\n",
              "      <td>RJ</td>\n",
              "      <td>57222</td>\n",
              "      <td>7677</td>\n",
              "      <td>3774</td>\n",
              "      <td>4892</td>\n",
              "      <td>4600</td>\n",
              "      <td>8660</td>\n",
              "      <td>12272</td>\n",
              "      <td>7157</td>\n",
              "      <td>8190</td>\n",
              "      <td>0</td>\n",
              "      <td>0</td>\n",
              "      <td>1089</td>\n",
              "      <td>2821</td>\n",
              "      <td>5110</td>\n",
              "      <td>5422</td>\n",
              "      <td>1073</td>\n",
              "      <td>3261</td>\n",
              "      <td>1380.0</td>\n",
              "      <td>553020.0</td>\n",
              "    </tr>\n",
              "    <tr>\n",
              "      <th>...</th>\n",
              "      <td>...</td>\n",
              "      <td>...</td>\n",
              "      <td>...</td>\n",
              "      <td>...</td>\n",
              "      <td>...</td>\n",
              "      <td>...</td>\n",
              "      <td>...</td>\n",
              "      <td>...</td>\n",
              "      <td>...</td>\n",
              "      <td>...</td>\n",
              "      <td>...</td>\n",
              "      <td>...</td>\n",
              "      <td>...</td>\n",
              "      <td>...</td>\n",
              "      <td>...</td>\n",
              "      <td>...</td>\n",
              "      <td>...</td>\n",
              "      <td>...</td>\n",
              "      <td>...</td>\n",
              "      <td>...</td>\n",
              "      <td>...</td>\n",
              "      <td>...</td>\n",
              "    </tr>\n",
              "    <tr>\n",
              "      <th>155</th>\n",
              "      <td>Vila Kosmos</td>\n",
              "      <td>Rio de Janeiro</td>\n",
              "      <td>RJ</td>\n",
              "      <td>18791</td>\n",
              "      <td>1802</td>\n",
              "      <td>921</td>\n",
              "      <td>1442</td>\n",
              "      <td>1462</td>\n",
              "      <td>2500</td>\n",
              "      <td>3944</td>\n",
              "      <td>2920</td>\n",
              "      <td>3800</td>\n",
              "      <td>0</td>\n",
              "      <td>259</td>\n",
              "      <td>774</td>\n",
              "      <td>1363</td>\n",
              "      <td>1923</td>\n",
              "      <td>1379</td>\n",
              "      <td>190</td>\n",
              "      <td>405</td>\n",
              "      <td>2316.0</td>\n",
              "      <td>901446.0</td>\n",
              "    </tr>\n",
              "    <tr>\n",
              "      <th>156</th>\n",
              "      <td>Vila Militar</td>\n",
              "      <td>Rio de Janeiro</td>\n",
              "      <td>RJ</td>\n",
              "      <td>13556</td>\n",
              "      <td>1888</td>\n",
              "      <td>787</td>\n",
              "      <td>1042</td>\n",
              "      <td>982</td>\n",
              "      <td>2542</td>\n",
              "      <td>2908</td>\n",
              "      <td>1528</td>\n",
              "      <td>1879</td>\n",
              "      <td>0</td>\n",
              "      <td>219</td>\n",
              "      <td>714</td>\n",
              "      <td>828</td>\n",
              "      <td>1051</td>\n",
              "      <td>1012</td>\n",
              "      <td>116</td>\n",
              "      <td>465</td>\n",
              "      <td>2416.0</td>\n",
              "      <td>849731.0</td>\n",
              "    </tr>\n",
              "    <tr>\n",
              "      <th>157</th>\n",
              "      <td>Vila Valqueire</td>\n",
              "      <td>Rio de Janeiro</td>\n",
              "      <td>RJ</td>\n",
              "      <td>33190</td>\n",
              "      <td>3166</td>\n",
              "      <td>1619</td>\n",
              "      <td>2255</td>\n",
              "      <td>2326</td>\n",
              "      <td>4752</td>\n",
              "      <td>7183</td>\n",
              "      <td>4950</td>\n",
              "      <td>6939</td>\n",
              "      <td>0</td>\n",
              "      <td>906</td>\n",
              "      <td>2866</td>\n",
              "      <td>2241</td>\n",
              "      <td>2982</td>\n",
              "      <td>1200</td>\n",
              "      <td>360</td>\n",
              "      <td>772</td>\n",
              "      <td>3189.0</td>\n",
              "      <td>1127042.0</td>\n",
              "    </tr>\n",
              "    <tr>\n",
              "      <th>158</th>\n",
              "      <td>Vista Alegre</td>\n",
              "      <td>Rio de Janeiro</td>\n",
              "      <td>RJ</td>\n",
              "      <td>8867</td>\n",
              "      <td>724</td>\n",
              "      <td>387</td>\n",
              "      <td>580</td>\n",
              "      <td>565</td>\n",
              "      <td>1205</td>\n",
              "      <td>1812</td>\n",
              "      <td>1474</td>\n",
              "      <td>2120</td>\n",
              "      <td>0</td>\n",
              "      <td>87</td>\n",
              "      <td>556</td>\n",
              "      <td>836</td>\n",
              "      <td>940</td>\n",
              "      <td>484</td>\n",
              "      <td>75</td>\n",
              "      <td>214</td>\n",
              "      <td>2418.0</td>\n",
              "      <td>921875.0</td>\n",
              "    </tr>\n",
              "    <tr>\n",
              "      <th>159</th>\n",
              "      <td>Zumbi</td>\n",
              "      <td>Rio de Janeiro</td>\n",
              "      <td>RJ</td>\n",
              "      <td>2072</td>\n",
              "      <td>175</td>\n",
              "      <td>74</td>\n",
              "      <td>120</td>\n",
              "      <td>121</td>\n",
              "      <td>318</td>\n",
              "      <td>417</td>\n",
              "      <td>314</td>\n",
              "      <td>533</td>\n",
              "      <td>0</td>\n",
              "      <td>89</td>\n",
              "      <td>234</td>\n",
              "      <td>177</td>\n",
              "      <td>147</td>\n",
              "      <td>72</td>\n",
              "      <td>10</td>\n",
              "      <td>47</td>\n",
              "      <td>3791.0</td>\n",
              "      <td>919451.0</td>\n",
              "    </tr>\n",
              "  </tbody>\n",
              "</table>\n",
              "<p>154 rows × 22 columns</p>\n",
              "</div>"
            ],
            "text/plain": [
              "                  nome          cidade  ... rendaMedia  faturamento\n",
              "0             Abolição  Rio de Janeiro  ...     2501.0     932515.0\n",
              "1                Acari  Rio de Janeiro  ...      931.0     588833.0\n",
              "2           Água Santa  Rio de Janeiro  ...     2391.0     874200.0\n",
              "3    Alto Da Boa Vista  Rio de Janeiro  ...     3727.0     912226.0\n",
              "4             Anchieta  Rio de Janeiro  ...     1380.0     553020.0\n",
              "..                 ...             ...  ...        ...          ...\n",
              "155        Vila Kosmos  Rio de Janeiro  ...     2316.0     901446.0\n",
              "156       Vila Militar  Rio de Janeiro  ...     2416.0     849731.0\n",
              "157     Vila Valqueire  Rio de Janeiro  ...     3189.0    1127042.0\n",
              "158       Vista Alegre  Rio de Janeiro  ...     2418.0     921875.0\n",
              "159              Zumbi  Rio de Janeiro  ...     3791.0     919451.0\n",
              "\n",
              "[154 rows x 22 columns]"
            ]
          },
          "metadata": {
            "tags": []
          },
          "execution_count": 21
        }
      ]
    },
    {
      "cell_type": "markdown",
      "metadata": {
        "id": "VvvJKYoQDFGg"
      },
      "source": [
        "Os domicilios do C ao E aparenta ser mais populares por apresentarem em maior quantidade, nos bairros onde há um maior número domicilios A1 e A2, parece influenciar consideravelmente da renda mensal e consequentemente no faturamento"
      ]
    },
    {
      "cell_type": "code",
      "metadata": {
        "id": "AQLAk14dAg9j",
        "colab": {
          "base_uri": "https://localhost:8080/",
          "height": 1000
        },
        "outputId": "272832c4-e080-4f7f-d7ca-157511e0f2d4"
      },
      "source": [
        "for column in data.iloc[:,4:].columns:\n",
        "  plt.figure(figsize=(10,8))\n",
        "  plt.hist(data[column], bins=22)\n",
        "  plt.xlabel(column)\n",
        "  plt.show()"
      ],
      "execution_count": null,
      "outputs": [
        {
          "output_type": "display_data",
          "data": {
            "image/png": "[encoded data removed]",
            "text/plain": [
              "<Figure size 720x576 with 1 Axes>"
            ]
          },
          "metadata": {
            "tags": []
          }
        },
        {
          "output_type": "display_data",
          "data": {
            "image/png": "[encoded data removed]",
            "text/plain": [
              "<Figure size 720x576 with 1 Axes>"
            ]
          },
          "metadata": {
            "tags": []
          }
        },
        {
          "output_type": "display_data",
          "data": {
            "image/png": "[encoded data removed]",
            "text/plain": [
              "<Figure size 720x576 with 1 Axes>"
            ]
          },
          "metadata": {
            "tags": []
          }
        },
        {
          "output_type": "display_data",
          "data": {
            "image/png": "[encoded data removed]",
            "text/plain": [
              "<Figure size 720x576 with 1 Axes>"
            ]
          },
          "metadata": {
            "tags": []
          }
        },
        {
          "output_type": "display_data",
          "data": {
            "image/png": "[encoded data removed]",
            "text/plain": [
              "<Figure size 720x576 with 1 Axes>"
            ]
          },
          "metadata": {
            "tags": []
          }
        },
        {
          "output_type": "display_data",
          "data": {
            "image/png": "[encoded data removed]",
            "text/plain": [
              "<Figure size 720x576 with 1 Axes>"
            ]
          },
          "metadata": {
            "tags": []
          }
        },
        {
          "output_type": "display_data",
          "data": {
            "image/png": "[encoded data removed]",
            "text/plain": [
              "<Figure size 720x576 with 1 Axes>"
            ]
          },
          "metadata": {
            "tags": []
          }
        },
        {
          "output_type": "display_data",
          "data": {
            "image/png": "[encoded data removed]",
            "text/plain": [
              "<Figure size 720x576 with 1 Axes>"
            ]
          },
          "metadata": {
            "tags": []
          }
        },
        {
          "output_type": "display_data",
          "data": {
            "image/png": "[encoded data removed]",
            "text/plain": [
              "<Figure size 720x576 with 1 Axes>"
            ]
          },
          "metadata": {
            "tags": []
          }
        },
        {
          "output_type": "display_data",
          "data": {
            "image/png": "[encoded data removed]",
            "text/plain": [
              "<Figure size 720x576 with 1 Axes>"
            ]
          },
          "metadata": {
            "tags": []
          }
        },
        {
          "output_type": "display_data",
          "data": {
            "image/png": "[encoded data removed]",
            "text/plain": [
              "<Figure size 720x576 with 1 Axes>"
            ]
          },
          "metadata": {
            "tags": []
          }
        },
        {
          "output_type": "display_data",
          "data": {
            "image/png": "[encoded data removed]",
            "text/plain": [
              "<Figure size 720x576 with 1 Axes>"
            ]
          },
          "metadata": {
            "tags": []
          }
        },
        {
          "output_type": "display_data",
          "data": {
            "image/png": "[encoded data removed]",
            "text/plain": [
              "<Figure size 720x576 with 1 Axes>"
            ]
          },
          "metadata": {
            "tags": []
          }
        },
        {
          "output_type": "display_data",
          "data": {
            "image/png": "[encoded data removed]",
            "text/plain": [
              "<Figure size 720x576 with 1 Axes>"
            ]
          },
          "metadata": {
            "tags": []
          }
        },
        {
          "output_type": "display_data",
          "data": {
            "image/png": "[encoded data removed]",
            "text/plain": [
              "<Figure size 720x576 with 1 Axes>"
            ]
          },
          "metadata": {
            "tags": []
          }
        },
        {
          "output_type": "display_data",
          "data": {
            "image/png": "[encoded data removed]",
            "text/plain": [
              "<Figure size 720x576 with 1 Axes>"
            ]
          },
          "metadata": {
            "tags": []
          }
        },
        {
          "output_type": "display_data",
          "data": {
            "image/png": "[encoded data removed]",
            "text/plain": [
              "<Figure size 720x576 with 1 Axes>"
            ]
          },
          "metadata": {
            "tags": []
          }
        },
        {
          "output_type": "display_data",
          "data": {
            "image/png": "[encoded data removed]",
            "text/plain": [
              "<Figure size 720x576 with 1 Axes>"
            ]
          },
          "metadata": {
            "tags": []
          }
        }
      ]
    },
    {
      "cell_type": "markdown",
      "metadata": {
        "id": "TejfyzAq3Mp7"
      },
      "source": [
        "Usamos a mediana no exemplo abaixo, pois em relação a média, <b>a mediana é menos afetada por valores muito alto.</b>\n",
        "\n",
        "Nos bairros há <b>uma concentração maior de pessoas de 35 a 49 anos de idade</b> e <b>uma concentração menor nas faixas de 10 a 14 anos.</b>"
      ]
    },
    {
      "cell_type": "code",
      "metadata": {
        "colab": {
          "base_uri": "https://localhost:8080/"
        },
        "id": "WTTP0Trwy9Aw",
        "outputId": "4524a474-7546-43cf-9b30-8128d377533d"
      },
      "source": [
        "print('Mediana das Faixas de Idade dos Bairros')\n",
        "for column in data.columns[4:12]:\n",
        "  print(column + \": \" + str(np.median(data[column])))"
      ],
      "execution_count": null,
      "outputs": [
        {
          "output_type": "stream",
          "text": [
            "Mediana das Faixas de Idade dos Bairros\n",
            "popAte9: 3150.0\n",
            "popDe10a14: 1450.5\n",
            "popDe15a19: 2034.0\n",
            "popDe20a24: 2183.5\n",
            "popDe25a34: 4288.5\n",
            "popDe35a49: 5675.0\n",
            "popDe50a59: 3337.5\n",
            "popMaisDe60: 4536.5\n"
          ],
          "name": "stdout"
        }
      ]
    },
    {
      "cell_type": "markdown",
      "metadata": {
        "id": "VnklVTmS92rt"
      },
      "source": [
        "<b>Campo Grande</b> é o bairro com <b>maior número de pessoas</b> no total de pessoas e em todas as faixas etárias e apesar de possuir uma quantidade grande de pessoas, o faturamento não é o maior e sua renda mensal de cada domicilio é R$ 1856."
      ]
    },
    {
      "cell_type": "code",
      "metadata": {
        "colab": {
          "base_uri": "https://localhost:8080/",
          "height": 117
        },
        "id": "5rfrSl5Cz87Z",
        "outputId": "2a728de3-6e00-422e-e1e0-cf9799a638f8"
      },
      "source": [
        "data.loc[data['população'] == data['população'].max()]"
      ],
      "execution_count": null,
      "outputs": [
        {
          "output_type": "execute_result",
          "data": {
            "text/html": [
              "<div>\n",
              "<style scoped>\n",
              "    .dataframe tbody tr th:only-of-type {\n",
              "        vertical-align: middle;\n",
              "    }\n",
              "\n",
              "    .dataframe tbody tr th {\n",
              "        vertical-align: top;\n",
              "    }\n",
              "\n",
              "    .dataframe thead th {\n",
              "        text-align: right;\n",
              "    }\n",
              "</style>\n",
              "<table border=\"1\" class=\"dataframe\">\n",
              "  <thead>\n",
              "    <tr style=\"text-align: right;\">\n",
              "      <th></th>\n",
              "      <th>nome</th>\n",
              "      <th>cidade</th>\n",
              "      <th>estado</th>\n",
              "      <th>população</th>\n",
              "      <th>popAte9</th>\n",
              "      <th>popDe10a14</th>\n",
              "      <th>popDe15a19</th>\n",
              "      <th>popDe20a24</th>\n",
              "      <th>popDe25a34</th>\n",
              "      <th>popDe35a49</th>\n",
              "      <th>popDe50a59</th>\n",
              "      <th>popMaisDe60</th>\n",
              "      <th>domiciliosA1</th>\n",
              "      <th>domiciliosA2</th>\n",
              "      <th>domiciliosB1</th>\n",
              "      <th>domiciliosB2</th>\n",
              "      <th>domiciliosC1</th>\n",
              "      <th>domiciliosC2</th>\n",
              "      <th>domiciliosD</th>\n",
              "      <th>domiciliosE</th>\n",
              "      <th>rendaMedia</th>\n",
              "      <th>faturamento</th>\n",
              "    </tr>\n",
              "  </thead>\n",
              "  <tbody>\n",
              "    <tr>\n",
              "      <th>23</th>\n",
              "      <td>Campo Grande</td>\n",
              "      <td>Rio de Janeiro</td>\n",
              "      <td>RJ</td>\n",
              "      <td>667603</td>\n",
              "      <td>122578</td>\n",
              "      <td>55935</td>\n",
              "      <td>62342</td>\n",
              "      <td>60567</td>\n",
              "      <td>86116</td>\n",
              "      <td>105316</td>\n",
              "      <td>83341</td>\n",
              "      <td>91408</td>\n",
              "      <td>0</td>\n",
              "      <td>1389</td>\n",
              "      <td>11747</td>\n",
              "      <td>21237</td>\n",
              "      <td>33111</td>\n",
              "      <td>25779</td>\n",
              "      <td>4956</td>\n",
              "      <td>12944</td>\n",
              "      <td>1856.0</td>\n",
              "      <td>69645.0</td>\n",
              "    </tr>\n",
              "  </tbody>\n",
              "</table>\n",
              "</div>"
            ],
            "text/plain": [
              "            nome          cidade estado  ...  domiciliosE  rendaMedia  faturamento\n",
              "23  Campo Grande  Rio de Janeiro     RJ  ...        12944      1856.0      69645.0\n",
              "\n",
              "[1 rows x 22 columns]"
            ]
          },
          "metadata": {
            "tags": []
          },
          "execution_count": 24
        }
      ]
    },
    {
      "cell_type": "markdown",
      "metadata": {
        "id": "eJ6lttre5r7N"
      },
      "source": [
        "<b>Grumari</b> é bairro com <b>menor concentração de pessoas</b> menores da faixa de idade menores de 9 anos até maiores de 60 anos."
      ]
    },
    {
      "cell_type": "code",
      "metadata": {
        "colab": {
          "base_uri": "https://localhost:8080/",
          "height": 117
        },
        "id": "Hnvi1RJ65uIN",
        "outputId": "5a315537-d6e8-4553-d589-010d601c689d"
      },
      "source": [
        "data.loc[data['popDe10a14'] == data['popDe10a14'].min()]"
      ],
      "execution_count": null,
      "outputs": [
        {
          "output_type": "execute_result",
          "data": {
            "text/html": [
              "<div>\n",
              "<style scoped>\n",
              "    .dataframe tbody tr th:only-of-type {\n",
              "        vertical-align: middle;\n",
              "    }\n",
              "\n",
              "    .dataframe tbody tr th {\n",
              "        vertical-align: top;\n",
              "    }\n",
              "\n",
              "    .dataframe thead th {\n",
              "        text-align: right;\n",
              "    }\n",
              "</style>\n",
              "<table border=\"1\" class=\"dataframe\">\n",
              "  <thead>\n",
              "    <tr style=\"text-align: right;\">\n",
              "      <th></th>\n",
              "      <th>nome</th>\n",
              "      <th>cidade</th>\n",
              "      <th>estado</th>\n",
              "      <th>população</th>\n",
              "      <th>popAte9</th>\n",
              "      <th>popDe10a14</th>\n",
              "      <th>popDe15a19</th>\n",
              "      <th>popDe20a24</th>\n",
              "      <th>popDe25a34</th>\n",
              "      <th>popDe35a49</th>\n",
              "      <th>popDe50a59</th>\n",
              "      <th>popMaisDe60</th>\n",
              "      <th>domiciliosA1</th>\n",
              "      <th>domiciliosA2</th>\n",
              "      <th>domiciliosB1</th>\n",
              "      <th>domiciliosB2</th>\n",
              "      <th>domiciliosC1</th>\n",
              "      <th>domiciliosC2</th>\n",
              "      <th>domiciliosD</th>\n",
              "      <th>domiciliosE</th>\n",
              "      <th>rendaMedia</th>\n",
              "      <th>faturamento</th>\n",
              "    </tr>\n",
              "  </thead>\n",
              "  <tbody>\n",
              "    <tr>\n",
              "      <th>60</th>\n",
              "      <td>Grumari</td>\n",
              "      <td>Rio de Janeiro</td>\n",
              "      <td>RJ</td>\n",
              "      <td>173</td>\n",
              "      <td>33</td>\n",
              "      <td>13</td>\n",
              "      <td>22</td>\n",
              "      <td>17</td>\n",
              "      <td>28</td>\n",
              "      <td>38</td>\n",
              "      <td>10</td>\n",
              "      <td>12</td>\n",
              "      <td>0</td>\n",
              "      <td>0</td>\n",
              "      <td>0</td>\n",
              "      <td>0</td>\n",
              "      <td>5</td>\n",
              "      <td>17</td>\n",
              "      <td>8</td>\n",
              "      <td>16</td>\n",
              "      <td>654.0</td>\n",
              "      <td>835491.0</td>\n",
              "    </tr>\n",
              "  </tbody>\n",
              "</table>\n",
              "</div>"
            ],
            "text/plain": [
              "       nome          cidade estado  ...  domiciliosE  rendaMedia  faturamento\n",
              "60  Grumari  Rio de Janeiro     RJ  ...           16       654.0     835491.0\n",
              "\n",
              "[1 rows x 22 columns]"
            ]
          },
          "metadata": {
            "tags": []
          },
          "execution_count": 25
        }
      ]
    },
    {
      "cell_type": "markdown",
      "metadata": {
        "id": "WSoJ95vM9XZd"
      },
      "source": [
        "<b>Barra Da Tijuca</b> é o bairro com <b>maior faturamento</b>, e possui uma renda mensal de R$ 18.084."
      ]
    },
    {
      "cell_type": "code",
      "metadata": {
        "colab": {
          "base_uri": "https://localhost:8080/",
          "height": 134
        },
        "id": "arwZ-jRMz8-O",
        "outputId": "4371386e-916a-40db-f074-4999af6a435b"
      },
      "source": [
        "data.loc[data['faturamento'] == data['faturamento'].max()]"
      ],
      "execution_count": null,
      "outputs": [
        {
          "output_type": "execute_result",
          "data": {
            "text/html": [
              "<div>\n",
              "<style scoped>\n",
              "    .dataframe tbody tr th:only-of-type {\n",
              "        vertical-align: middle;\n",
              "    }\n",
              "\n",
              "    .dataframe tbody tr th {\n",
              "        vertical-align: top;\n",
              "    }\n",
              "\n",
              "    .dataframe thead th {\n",
              "        text-align: right;\n",
              "    }\n",
              "</style>\n",
              "<table border=\"1\" class=\"dataframe\">\n",
              "  <thead>\n",
              "    <tr style=\"text-align: right;\">\n",
              "      <th></th>\n",
              "      <th>nome</th>\n",
              "      <th>cidade</th>\n",
              "      <th>estado</th>\n",
              "      <th>população</th>\n",
              "      <th>popAte9</th>\n",
              "      <th>popDe10a14</th>\n",
              "      <th>popDe15a19</th>\n",
              "      <th>popDe20a24</th>\n",
              "      <th>popDe25a34</th>\n",
              "      <th>popDe35a49</th>\n",
              "      <th>popDe50a59</th>\n",
              "      <th>popMaisDe60</th>\n",
              "      <th>domiciliosA1</th>\n",
              "      <th>domiciliosA2</th>\n",
              "      <th>domiciliosB1</th>\n",
              "      <th>domiciliosB2</th>\n",
              "      <th>domiciliosC1</th>\n",
              "      <th>domiciliosC2</th>\n",
              "      <th>domiciliosD</th>\n",
              "      <th>domiciliosE</th>\n",
              "      <th>rendaMedia</th>\n",
              "      <th>faturamento</th>\n",
              "    </tr>\n",
              "  </thead>\n",
              "  <tbody>\n",
              "    <tr>\n",
              "      <th>9</th>\n",
              "      <td>Barra Da Tijuca</td>\n",
              "      <td>Rio de Janeiro</td>\n",
              "      <td>RJ</td>\n",
              "      <td>139761</td>\n",
              "      <td>13038</td>\n",
              "      <td>5225</td>\n",
              "      <td>7432</td>\n",
              "      <td>8627</td>\n",
              "      <td>21914</td>\n",
              "      <td>32089</td>\n",
              "      <td>21058</td>\n",
              "      <td>30378</td>\n",
              "      <td>13408</td>\n",
              "      <td>11668</td>\n",
              "      <td>14820</td>\n",
              "      <td>5205</td>\n",
              "      <td>3437</td>\n",
              "      <td>1841</td>\n",
              "      <td>0</td>\n",
              "      <td>3897</td>\n",
              "      <td>18084.0</td>\n",
              "      <td>2915612.0</td>\n",
              "    </tr>\n",
              "  </tbody>\n",
              "</table>\n",
              "</div>"
            ],
            "text/plain": [
              "              nome          cidade estado  ...  domiciliosE  rendaMedia  faturamento\n",
              "9  Barra Da Tijuca  Rio de Janeiro     RJ  ...         3897     18084.0    2915612.0\n",
              "\n",
              "[1 rows x 22 columns]"
            ]
          },
          "metadata": {
            "tags": []
          },
          "execution_count": 26
        }
      ]
    },
    {
      "cell_type": "markdown",
      "metadata": {
        "id": "dXM2Uwn2uSkw"
      },
      "source": [
        "<b>Lagoa</b> é o bairro com <b>maior renda média</b> com R$ 63.887."
      ]
    },
    {
      "cell_type": "code",
      "metadata": {
        "colab": {
          "base_uri": "https://localhost:8080/",
          "height": 117
        },
        "id": "gnDZ5rNcz9Dr",
        "outputId": "bedb0acf-b048-431f-b433-2660ba9d6c9d"
      },
      "source": [
        "data.loc[data['rendaMedia'] == data['rendaMedia'].max()]"
      ],
      "execution_count": null,
      "outputs": [
        {
          "output_type": "execute_result",
          "data": {
            "text/html": [
              "<div>\n",
              "<style scoped>\n",
              "    .dataframe tbody tr th:only-of-type {\n",
              "        vertical-align: middle;\n",
              "    }\n",
              "\n",
              "    .dataframe tbody tr th {\n",
              "        vertical-align: top;\n",
              "    }\n",
              "\n",
              "    .dataframe thead th {\n",
              "        text-align: right;\n",
              "    }\n",
              "</style>\n",
              "<table border=\"1\" class=\"dataframe\">\n",
              "  <thead>\n",
              "    <tr style=\"text-align: right;\">\n",
              "      <th></th>\n",
              "      <th>nome</th>\n",
              "      <th>cidade</th>\n",
              "      <th>estado</th>\n",
              "      <th>população</th>\n",
              "      <th>popAte9</th>\n",
              "      <th>popDe10a14</th>\n",
              "      <th>popDe15a19</th>\n",
              "      <th>popDe20a24</th>\n",
              "      <th>popDe25a34</th>\n",
              "      <th>popDe35a49</th>\n",
              "      <th>popDe50a59</th>\n",
              "      <th>popMaisDe60</th>\n",
              "      <th>domiciliosA1</th>\n",
              "      <th>domiciliosA2</th>\n",
              "      <th>domiciliosB1</th>\n",
              "      <th>domiciliosB2</th>\n",
              "      <th>domiciliosC1</th>\n",
              "      <th>domiciliosC2</th>\n",
              "      <th>domiciliosD</th>\n",
              "      <th>domiciliosE</th>\n",
              "      <th>rendaMedia</th>\n",
              "      <th>faturamento</th>\n",
              "    </tr>\n",
              "  </thead>\n",
              "  <tbody>\n",
              "    <tr>\n",
              "      <th>80</th>\n",
              "      <td>Lagoa</td>\n",
              "      <td>Rio de Janeiro</td>\n",
              "      <td>RJ</td>\n",
              "      <td>21795</td>\n",
              "      <td>1794</td>\n",
              "      <td>708</td>\n",
              "      <td>1054</td>\n",
              "      <td>1252</td>\n",
              "      <td>2943</td>\n",
              "      <td>4812</td>\n",
              "      <td>3594</td>\n",
              "      <td>5638</td>\n",
              "      <td>2916</td>\n",
              "      <td>2140</td>\n",
              "      <td>1931</td>\n",
              "      <td>697</td>\n",
              "      <td>365</td>\n",
              "      <td>306</td>\n",
              "      <td>0</td>\n",
              "      <td>469</td>\n",
              "      <td>63887.0</td>\n",
              "      <td>1775547.0</td>\n",
              "    </tr>\n",
              "  </tbody>\n",
              "</table>\n",
              "</div>"
            ],
            "text/plain": [
              "     nome          cidade estado  ...  domiciliosE  rendaMedia  faturamento\n",
              "80  Lagoa  Rio de Janeiro     RJ  ...          469     63887.0    1775547.0\n",
              "\n",
              "[1 rows x 22 columns]"
            ]
          },
          "metadata": {
            "tags": []
          },
          "execution_count": 27
        }
      ]
    },
    {
      "cell_type": "markdown",
      "metadata": {
        "id": "vaeJiFZdsWUR"
      },
      "source": [
        "<b>Hipotese:</b> Bairros que possuem domicilios do tipo A1 e A2, geralmente as pessoas que moram nesses bairros possuem uma renda média alta.\n",
        "\n",
        "<br>\n",
        "\n",
        "A célula abaixo, estamos buscando a renda média e o faturamento de bairros que não possuem domicílios do tipo A1 e A2."
      ]
    },
    {
      "cell_type": "code",
      "metadata": {
        "colab": {
          "base_uri": "https://localhost:8080/",
          "height": 317
        },
        "id": "KCT-bHUypXup",
        "outputId": "60a130ad-2b40-416a-ddbf-d01f4402ad1e"
      },
      "source": [
        "data.loc[(data['domiciliosA1'] == 0) & (data['domiciliosA2'] == 0)].describe()"
      ],
      "execution_count": null,
      "outputs": [
        {
          "output_type": "execute_result",
          "data": {
            "text/html": [
              "<div>\n",
              "<style scoped>\n",
              "    .dataframe tbody tr th:only-of-type {\n",
              "        vertical-align: middle;\n",
              "    }\n",
              "\n",
              "    .dataframe tbody tr th {\n",
              "        vertical-align: top;\n",
              "    }\n",
              "\n",
              "    .dataframe thead th {\n",
              "        text-align: right;\n",
              "    }\n",
              "</style>\n",
              "<table border=\"1\" class=\"dataframe\">\n",
              "  <thead>\n",
              "    <tr style=\"text-align: right;\">\n",
              "      <th></th>\n",
              "      <th>população</th>\n",
              "      <th>popAte9</th>\n",
              "      <th>popDe10a14</th>\n",
              "      <th>popDe15a19</th>\n",
              "      <th>popDe20a24</th>\n",
              "      <th>popDe25a34</th>\n",
              "      <th>popDe35a49</th>\n",
              "      <th>popDe50a59</th>\n",
              "      <th>popMaisDe60</th>\n",
              "      <th>domiciliosA1</th>\n",
              "      <th>domiciliosA2</th>\n",
              "      <th>domiciliosB1</th>\n",
              "      <th>domiciliosB2</th>\n",
              "      <th>domiciliosC1</th>\n",
              "      <th>domiciliosC2</th>\n",
              "      <th>domiciliosD</th>\n",
              "      <th>domiciliosE</th>\n",
              "      <th>rendaMedia</th>\n",
              "      <th>faturamento</th>\n",
              "    </tr>\n",
              "  </thead>\n",
              "  <tbody>\n",
              "    <tr>\n",
              "      <th>count</th>\n",
              "      <td>49.000000</td>\n",
              "      <td>49.000000</td>\n",
              "      <td>49.000000</td>\n",
              "      <td>49.000000</td>\n",
              "      <td>49.000000</td>\n",
              "      <td>49.000000</td>\n",
              "      <td>49.000000</td>\n",
              "      <td>49.000000</td>\n",
              "      <td>49.000000</td>\n",
              "      <td>49.0</td>\n",
              "      <td>49.0</td>\n",
              "      <td>49.000000</td>\n",
              "      <td>49.000000</td>\n",
              "      <td>49.000000</td>\n",
              "      <td>49.000000</td>\n",
              "      <td>49.000000</td>\n",
              "      <td>49.000000</td>\n",
              "      <td>49.000000</td>\n",
              "      <td>49.000000</td>\n",
              "    </tr>\n",
              "    <tr>\n",
              "      <th>mean</th>\n",
              "      <td>40651.877551</td>\n",
              "      <td>5936.346939</td>\n",
              "      <td>2755.979592</td>\n",
              "      <td>3539.632653</td>\n",
              "      <td>3433.204082</td>\n",
              "      <td>6588.061224</td>\n",
              "      <td>8646.591837</td>\n",
              "      <td>4431.000000</td>\n",
              "      <td>5321.061224</td>\n",
              "      <td>0.0</td>\n",
              "      <td>0.0</td>\n",
              "      <td>521.673469</td>\n",
              "      <td>1738.510204</td>\n",
              "      <td>3638.632653</td>\n",
              "      <td>3886.857143</td>\n",
              "      <td>781.530612</td>\n",
              "      <td>2579.265306</td>\n",
              "      <td>1297.326531</td>\n",
              "      <td>597090.265306</td>\n",
              "    </tr>\n",
              "    <tr>\n",
              "      <th>std</th>\n",
              "      <td>39441.399851</td>\n",
              "      <td>6408.595967</td>\n",
              "      <td>2930.125086</td>\n",
              "      <td>3694.845857</td>\n",
              "      <td>3325.977143</td>\n",
              "      <td>6438.366862</td>\n",
              "      <td>8416.649474</td>\n",
              "      <td>4084.007509</td>\n",
              "      <td>4598.754802</td>\n",
              "      <td>0.0</td>\n",
              "      <td>0.0</td>\n",
              "      <td>461.553328</td>\n",
              "      <td>1514.817592</td>\n",
              "      <td>3421.116805</td>\n",
              "      <td>4086.859104</td>\n",
              "      <td>850.396920</td>\n",
              "      <td>2597.409597</td>\n",
              "      <td>246.844366</td>\n",
              "      <td>245621.802148</td>\n",
              "    </tr>\n",
              "    <tr>\n",
              "      <th>min</th>\n",
              "      <td>173.000000</td>\n",
              "      <td>33.000000</td>\n",
              "      <td>13.000000</td>\n",
              "      <td>22.000000</td>\n",
              "      <td>17.000000</td>\n",
              "      <td>28.000000</td>\n",
              "      <td>38.000000</td>\n",
              "      <td>10.000000</td>\n",
              "      <td>12.000000</td>\n",
              "      <td>0.0</td>\n",
              "      <td>0.0</td>\n",
              "      <td>0.000000</td>\n",
              "      <td>0.000000</td>\n",
              "      <td>5.000000</td>\n",
              "      <td>17.000000</td>\n",
              "      <td>8.000000</td>\n",
              "      <td>16.000000</td>\n",
              "      <td>654.000000</td>\n",
              "      <td>24651.000000</td>\n",
              "    </tr>\n",
              "    <tr>\n",
              "      <th>25%</th>\n",
              "      <td>17734.000000</td>\n",
              "      <td>2079.000000</td>\n",
              "      <td>1011.000000</td>\n",
              "      <td>1299.000000</td>\n",
              "      <td>1409.000000</td>\n",
              "      <td>2814.000000</td>\n",
              "      <td>3598.000000</td>\n",
              "      <td>1939.000000</td>\n",
              "      <td>2490.000000</td>\n",
              "      <td>0.0</td>\n",
              "      <td>0.0</td>\n",
              "      <td>123.000000</td>\n",
              "      <td>631.000000</td>\n",
              "      <td>1667.000000</td>\n",
              "      <td>1384.000000</td>\n",
              "      <td>259.000000</td>\n",
              "      <td>1014.000000</td>\n",
              "      <td>1133.000000</td>\n",
              "      <td>527702.000000</td>\n",
              "    </tr>\n",
              "    <tr>\n",
              "      <th>50%</th>\n",
              "      <td>28018.000000</td>\n",
              "      <td>3735.000000</td>\n",
              "      <td>1842.000000</td>\n",
              "      <td>2363.000000</td>\n",
              "      <td>2405.000000</td>\n",
              "      <td>4614.000000</td>\n",
              "      <td>5959.000000</td>\n",
              "      <td>3468.000000</td>\n",
              "      <td>4410.000000</td>\n",
              "      <td>0.0</td>\n",
              "      <td>0.0</td>\n",
              "      <td>423.000000</td>\n",
              "      <td>1429.000000</td>\n",
              "      <td>2656.000000</td>\n",
              "      <td>2588.000000</td>\n",
              "      <td>456.000000</td>\n",
              "      <td>1796.000000</td>\n",
              "      <td>1244.000000</td>\n",
              "      <td>689701.000000</td>\n",
              "    </tr>\n",
              "    <tr>\n",
              "      <th>75%</th>\n",
              "      <td>46478.000000</td>\n",
              "      <td>6423.000000</td>\n",
              "      <td>3025.000000</td>\n",
              "      <td>3768.000000</td>\n",
              "      <td>3789.000000</td>\n",
              "      <td>7146.000000</td>\n",
              "      <td>9478.000000</td>\n",
              "      <td>5728.000000</td>\n",
              "      <td>7038.000000</td>\n",
              "      <td>0.0</td>\n",
              "      <td>0.0</td>\n",
              "      <td>754.000000</td>\n",
              "      <td>2295.000000</td>\n",
              "      <td>4599.000000</td>\n",
              "      <td>4180.000000</td>\n",
              "      <td>933.000000</td>\n",
              "      <td>3261.000000</td>\n",
              "      <td>1499.000000</td>\n",
              "      <td>774667.000000</td>\n",
              "    </tr>\n",
              "    <tr>\n",
              "      <th>max</th>\n",
              "      <td>223440.000000</td>\n",
              "      <td>35572.000000</td>\n",
              "      <td>16403.000000</td>\n",
              "      <td>20998.000000</td>\n",
              "      <td>18090.000000</td>\n",
              "      <td>34697.000000</td>\n",
              "      <td>46774.000000</td>\n",
              "      <td>23878.000000</td>\n",
              "      <td>27028.000000</td>\n",
              "      <td>0.0</td>\n",
              "      <td>0.0</td>\n",
              "      <td>2057.000000</td>\n",
              "      <td>8310.000000</td>\n",
              "      <td>18161.000000</td>\n",
              "      <td>22160.000000</td>\n",
              "      <td>4572.000000</td>\n",
              "      <td>14833.000000</td>\n",
              "      <td>1944.000000</td>\n",
              "      <td>851362.000000</td>\n",
              "    </tr>\n",
              "  </tbody>\n",
              "</table>\n",
              "</div>"
            ],
            "text/plain": [
              "           população       popAte9  ...   rendaMedia    faturamento\n",
              "count      49.000000     49.000000  ...    49.000000      49.000000\n",
              "mean    40651.877551   5936.346939  ...  1297.326531  597090.265306\n",
              "std     39441.399851   6408.595967  ...   246.844366  245621.802148\n",
              "min       173.000000     33.000000  ...   654.000000   24651.000000\n",
              "25%     17734.000000   2079.000000  ...  1133.000000  527702.000000\n",
              "50%     28018.000000   3735.000000  ...  1244.000000  689701.000000\n",
              "75%     46478.000000   6423.000000  ...  1499.000000  774667.000000\n",
              "max    223440.000000  35572.000000  ...  1944.000000  851362.000000\n",
              "\n",
              "[8 rows x 19 columns]"
            ]
          },
          "metadata": {
            "tags": []
          },
          "execution_count": 28
        }
      ]
    },
    {
      "cell_type": "markdown",
      "metadata": {
        "id": "xCyq7GVftEmx"
      },
      "source": [
        "Buscando bairros que possuem domicilios do tipo A1 e não possuem domicilios do tipo A2."
      ]
    },
    {
      "cell_type": "code",
      "metadata": {
        "colab": {
          "base_uri": "https://localhost:8080/",
          "height": 317
        },
        "id": "_QMiHhEhqLBx",
        "outputId": "569fa0b0-68f7-42da-acab-251a1c972a89"
      },
      "source": [
        "data.loc[(data['domiciliosA1'] > 0) & (data['domiciliosA2'] == 0)].describe()"
      ],
      "execution_count": null,
      "outputs": [
        {
          "output_type": "execute_result",
          "data": {
            "text/html": [
              "<div>\n",
              "<style scoped>\n",
              "    .dataframe tbody tr th:only-of-type {\n",
              "        vertical-align: middle;\n",
              "    }\n",
              "\n",
              "    .dataframe tbody tr th {\n",
              "        vertical-align: top;\n",
              "    }\n",
              "\n",
              "    .dataframe thead th {\n",
              "        text-align: right;\n",
              "    }\n",
              "</style>\n",
              "<table border=\"1\" class=\"dataframe\">\n",
              "  <thead>\n",
              "    <tr style=\"text-align: right;\">\n",
              "      <th></th>\n",
              "      <th>população</th>\n",
              "      <th>popAte9</th>\n",
              "      <th>popDe10a14</th>\n",
              "      <th>popDe15a19</th>\n",
              "      <th>popDe20a24</th>\n",
              "      <th>popDe25a34</th>\n",
              "      <th>popDe35a49</th>\n",
              "      <th>popDe50a59</th>\n",
              "      <th>popMaisDe60</th>\n",
              "      <th>domiciliosA1</th>\n",
              "      <th>domiciliosA2</th>\n",
              "      <th>domiciliosB1</th>\n",
              "      <th>domiciliosB2</th>\n",
              "      <th>domiciliosC1</th>\n",
              "      <th>domiciliosC2</th>\n",
              "      <th>domiciliosD</th>\n",
              "      <th>domiciliosE</th>\n",
              "      <th>rendaMedia</th>\n",
              "      <th>faturamento</th>\n",
              "    </tr>\n",
              "  </thead>\n",
              "  <tbody>\n",
              "    <tr>\n",
              "      <th>count</th>\n",
              "      <td>0.0</td>\n",
              "      <td>0.0</td>\n",
              "      <td>0.0</td>\n",
              "      <td>0.0</td>\n",
              "      <td>0.0</td>\n",
              "      <td>0.0</td>\n",
              "      <td>0.0</td>\n",
              "      <td>0.0</td>\n",
              "      <td>0.0</td>\n",
              "      <td>0.0</td>\n",
              "      <td>0.0</td>\n",
              "      <td>0.0</td>\n",
              "      <td>0.0</td>\n",
              "      <td>0.0</td>\n",
              "      <td>0.0</td>\n",
              "      <td>0.0</td>\n",
              "      <td>0.0</td>\n",
              "      <td>0.0</td>\n",
              "      <td>0.0</td>\n",
              "    </tr>\n",
              "    <tr>\n",
              "      <th>mean</th>\n",
              "      <td>NaN</td>\n",
              "      <td>NaN</td>\n",
              "      <td>NaN</td>\n",
              "      <td>NaN</td>\n",
              "      <td>NaN</td>\n",
              "      <td>NaN</td>\n",
              "      <td>NaN</td>\n",
              "      <td>NaN</td>\n",
              "      <td>NaN</td>\n",
              "      <td>NaN</td>\n",
              "      <td>NaN</td>\n",
              "      <td>NaN</td>\n",
              "      <td>NaN</td>\n",
              "      <td>NaN</td>\n",
              "      <td>NaN</td>\n",
              "      <td>NaN</td>\n",
              "      <td>NaN</td>\n",
              "      <td>NaN</td>\n",
              "      <td>NaN</td>\n",
              "    </tr>\n",
              "    <tr>\n",
              "      <th>std</th>\n",
              "      <td>NaN</td>\n",
              "      <td>NaN</td>\n",
              "      <td>NaN</td>\n",
              "      <td>NaN</td>\n",
              "      <td>NaN</td>\n",
              "      <td>NaN</td>\n",
              "      <td>NaN</td>\n",
              "      <td>NaN</td>\n",
              "      <td>NaN</td>\n",
              "      <td>NaN</td>\n",
              "      <td>NaN</td>\n",
              "      <td>NaN</td>\n",
              "      <td>NaN</td>\n",
              "      <td>NaN</td>\n",
              "      <td>NaN</td>\n",
              "      <td>NaN</td>\n",
              "      <td>NaN</td>\n",
              "      <td>NaN</td>\n",
              "      <td>NaN</td>\n",
              "    </tr>\n",
              "    <tr>\n",
              "      <th>min</th>\n",
              "      <td>NaN</td>\n",
              "      <td>NaN</td>\n",
              "      <td>NaN</td>\n",
              "      <td>NaN</td>\n",
              "      <td>NaN</td>\n",
              "      <td>NaN</td>\n",
              "      <td>NaN</td>\n",
              "      <td>NaN</td>\n",
              "      <td>NaN</td>\n",
              "      <td>NaN</td>\n",
              "      <td>NaN</td>\n",
              "      <td>NaN</td>\n",
              "      <td>NaN</td>\n",
              "      <td>NaN</td>\n",
              "      <td>NaN</td>\n",
              "      <td>NaN</td>\n",
              "      <td>NaN</td>\n",
              "      <td>NaN</td>\n",
              "      <td>NaN</td>\n",
              "    </tr>\n",
              "    <tr>\n",
              "      <th>25%</th>\n",
              "      <td>NaN</td>\n",
              "      <td>NaN</td>\n",
              "      <td>NaN</td>\n",
              "      <td>NaN</td>\n",
              "      <td>NaN</td>\n",
              "      <td>NaN</td>\n",
              "      <td>NaN</td>\n",
              "      <td>NaN</td>\n",
              "      <td>NaN</td>\n",
              "      <td>NaN</td>\n",
              "      <td>NaN</td>\n",
              "      <td>NaN</td>\n",
              "      <td>NaN</td>\n",
              "      <td>NaN</td>\n",
              "      <td>NaN</td>\n",
              "      <td>NaN</td>\n",
              "      <td>NaN</td>\n",
              "      <td>NaN</td>\n",
              "      <td>NaN</td>\n",
              "    </tr>\n",
              "    <tr>\n",
              "      <th>50%</th>\n",
              "      <td>NaN</td>\n",
              "      <td>NaN</td>\n",
              "      <td>NaN</td>\n",
              "      <td>NaN</td>\n",
              "      <td>NaN</td>\n",
              "      <td>NaN</td>\n",
              "      <td>NaN</td>\n",
              "      <td>NaN</td>\n",
              "      <td>NaN</td>\n",
              "      <td>NaN</td>\n",
              "      <td>NaN</td>\n",
              "      <td>NaN</td>\n",
              "      <td>NaN</td>\n",
              "      <td>NaN</td>\n",
              "      <td>NaN</td>\n",
              "      <td>NaN</td>\n",
              "      <td>NaN</td>\n",
              "      <td>NaN</td>\n",
              "      <td>NaN</td>\n",
              "    </tr>\n",
              "    <tr>\n",
              "      <th>75%</th>\n",
              "      <td>NaN</td>\n",
              "      <td>NaN</td>\n",
              "      <td>NaN</td>\n",
              "      <td>NaN</td>\n",
              "      <td>NaN</td>\n",
              "      <td>NaN</td>\n",
              "      <td>NaN</td>\n",
              "      <td>NaN</td>\n",
              "      <td>NaN</td>\n",
              "      <td>NaN</td>\n",
              "      <td>NaN</td>\n",
              "      <td>NaN</td>\n",
              "      <td>NaN</td>\n",
              "      <td>NaN</td>\n",
              "      <td>NaN</td>\n",
              "      <td>NaN</td>\n",
              "      <td>NaN</td>\n",
              "      <td>NaN</td>\n",
              "      <td>NaN</td>\n",
              "    </tr>\n",
              "    <tr>\n",
              "      <th>max</th>\n",
              "      <td>NaN</td>\n",
              "      <td>NaN</td>\n",
              "      <td>NaN</td>\n",
              "      <td>NaN</td>\n",
              "      <td>NaN</td>\n",
              "      <td>NaN</td>\n",
              "      <td>NaN</td>\n",
              "      <td>NaN</td>\n",
              "      <td>NaN</td>\n",
              "      <td>NaN</td>\n",
              "      <td>NaN</td>\n",
              "      <td>NaN</td>\n",
              "      <td>NaN</td>\n",
              "      <td>NaN</td>\n",
              "      <td>NaN</td>\n",
              "      <td>NaN</td>\n",
              "      <td>NaN</td>\n",
              "      <td>NaN</td>\n",
              "      <td>NaN</td>\n",
              "    </tr>\n",
              "  </tbody>\n",
              "</table>\n",
              "</div>"
            ],
            "text/plain": [
              "       população  popAte9  popDe10a14  ...  domiciliosE  rendaMedia  faturamento\n",
              "count        0.0      0.0         0.0  ...          0.0         0.0          0.0\n",
              "mean         NaN      NaN         NaN  ...          NaN         NaN          NaN\n",
              "std          NaN      NaN         NaN  ...          NaN         NaN          NaN\n",
              "min          NaN      NaN         NaN  ...          NaN         NaN          NaN\n",
              "25%          NaN      NaN         NaN  ...          NaN         NaN          NaN\n",
              "50%          NaN      NaN         NaN  ...          NaN         NaN          NaN\n",
              "75%          NaN      NaN         NaN  ...          NaN         NaN          NaN\n",
              "max          NaN      NaN         NaN  ...          NaN         NaN          NaN\n",
              "\n",
              "[8 rows x 19 columns]"
            ]
          },
          "metadata": {
            "tags": []
          },
          "execution_count": 29
        }
      ]
    },
    {
      "cell_type": "markdown",
      "metadata": {
        "id": "-uuhdTamtNoP"
      },
      "source": [
        "Buscando bairros que possuem domicilios do tipo A2 e não possuem domicilios do tipo A1."
      ]
    },
    {
      "cell_type": "code",
      "metadata": {
        "colab": {
          "base_uri": "https://localhost:8080/",
          "height": 317
        },
        "id": "uyKWEdlhq865",
        "outputId": "182f68b8-575e-4fb7-c23c-5d3dc8a95400"
      },
      "source": [
        "data.loc[(data['domiciliosA1'] == 0) & (data['domiciliosA2'] > 0)].describe()"
      ],
      "execution_count": null,
      "outputs": [
        {
          "output_type": "execute_result",
          "data": {
            "text/html": [
              "<div>\n",
              "<style scoped>\n",
              "    .dataframe tbody tr th:only-of-type {\n",
              "        vertical-align: middle;\n",
              "    }\n",
              "\n",
              "    .dataframe tbody tr th {\n",
              "        vertical-align: top;\n",
              "    }\n",
              "\n",
              "    .dataframe thead th {\n",
              "        text-align: right;\n",
              "    }\n",
              "</style>\n",
              "<table border=\"1\" class=\"dataframe\">\n",
              "  <thead>\n",
              "    <tr style=\"text-align: right;\">\n",
              "      <th></th>\n",
              "      <th>população</th>\n",
              "      <th>popAte9</th>\n",
              "      <th>popDe10a14</th>\n",
              "      <th>popDe15a19</th>\n",
              "      <th>popDe20a24</th>\n",
              "      <th>popDe25a34</th>\n",
              "      <th>popDe35a49</th>\n",
              "      <th>popDe50a59</th>\n",
              "      <th>popMaisDe60</th>\n",
              "      <th>domiciliosA1</th>\n",
              "      <th>domiciliosA2</th>\n",
              "      <th>domiciliosB1</th>\n",
              "      <th>domiciliosB2</th>\n",
              "      <th>domiciliosC1</th>\n",
              "      <th>domiciliosC2</th>\n",
              "      <th>domiciliosD</th>\n",
              "      <th>domiciliosE</th>\n",
              "      <th>rendaMedia</th>\n",
              "      <th>faturamento</th>\n",
              "    </tr>\n",
              "  </thead>\n",
              "  <tbody>\n",
              "    <tr>\n",
              "      <th>count</th>\n",
              "      <td>68.000000</td>\n",
              "      <td>68.000000</td>\n",
              "      <td>68.000000</td>\n",
              "      <td>68.000000</td>\n",
              "      <td>68.000000</td>\n",
              "      <td>68.000000</td>\n",
              "      <td>68.000000</td>\n",
              "      <td>68.000000</td>\n",
              "      <td>68.000000</td>\n",
              "      <td>68.0</td>\n",
              "      <td>68.000000</td>\n",
              "      <td>68.000000</td>\n",
              "      <td>68.000000</td>\n",
              "      <td>68.000000</td>\n",
              "      <td>68.000000</td>\n",
              "      <td>68.000000</td>\n",
              "      <td>68.000000</td>\n",
              "      <td>68.000000</td>\n",
              "      <td>6.800000e+01</td>\n",
              "    </tr>\n",
              "    <tr>\n",
              "      <th>mean</th>\n",
              "      <td>43201.132353</td>\n",
              "      <td>5614.691176</td>\n",
              "      <td>2664.470588</td>\n",
              "      <td>3424.426471</td>\n",
              "      <td>3422.779412</td>\n",
              "      <td>6331.558824</td>\n",
              "      <td>8614.088235</td>\n",
              "      <td>5597.294118</td>\n",
              "      <td>7531.823529</td>\n",
              "      <td>0.0</td>\n",
              "      <td>235.441176</td>\n",
              "      <td>1528.044118</td>\n",
              "      <td>2563.411765</td>\n",
              "      <td>3726.867647</td>\n",
              "      <td>2939.558824</td>\n",
              "      <td>538.764706</td>\n",
              "      <td>1625.558824</td>\n",
              "      <td>2230.308824</td>\n",
              "      <td>8.173040e+05</td>\n",
              "    </tr>\n",
              "    <tr>\n",
              "      <th>std</th>\n",
              "      <td>86482.178394</td>\n",
              "      <td>15271.974884</td>\n",
              "      <td>7005.904884</td>\n",
              "      <td>7956.591883</td>\n",
              "      <td>7717.275975</td>\n",
              "      <td>11491.580463</td>\n",
              "      <td>14539.949563</td>\n",
              "      <td>10808.456761</td>\n",
              "      <td>12225.329093</td>\n",
              "      <td>0.0</td>\n",
              "      <td>255.940897</td>\n",
              "      <td>1703.696179</td>\n",
              "      <td>3263.833275</td>\n",
              "      <td>5330.091192</td>\n",
              "      <td>4504.699955</td>\n",
              "      <td>919.114014</td>\n",
              "      <td>2389.192572</td>\n",
              "      <td>728.778476</td>\n",
              "      <td>2.099405e+05</td>\n",
              "    </tr>\n",
              "    <tr>\n",
              "      <th>min</th>\n",
              "      <td>1403.000000</td>\n",
              "      <td>175.000000</td>\n",
              "      <td>74.000000</td>\n",
              "      <td>120.000000</td>\n",
              "      <td>103.000000</td>\n",
              "      <td>125.000000</td>\n",
              "      <td>374.000000</td>\n",
              "      <td>72.000000</td>\n",
              "      <td>34.000000</td>\n",
              "      <td>0.0</td>\n",
              "      <td>3.000000</td>\n",
              "      <td>45.000000</td>\n",
              "      <td>88.000000</td>\n",
              "      <td>24.000000</td>\n",
              "      <td>3.000000</td>\n",
              "      <td>0.000000</td>\n",
              "      <td>2.000000</td>\n",
              "      <td>1287.000000</td>\n",
              "      <td>3.546500e+04</td>\n",
              "    </tr>\n",
              "    <tr>\n",
              "      <th>25%</th>\n",
              "      <td>11294.500000</td>\n",
              "      <td>1237.000000</td>\n",
              "      <td>580.750000</td>\n",
              "      <td>802.750000</td>\n",
              "      <td>826.000000</td>\n",
              "      <td>1770.000000</td>\n",
              "      <td>2359.250000</td>\n",
              "      <td>1469.500000</td>\n",
              "      <td>2084.750000</td>\n",
              "      <td>0.0</td>\n",
              "      <td>86.500000</td>\n",
              "      <td>526.250000</td>\n",
              "      <td>808.500000</td>\n",
              "      <td>976.750000</td>\n",
              "      <td>707.250000</td>\n",
              "      <td>99.500000</td>\n",
              "      <td>342.250000</td>\n",
              "      <td>1784.750000</td>\n",
              "      <td>7.793428e+05</td>\n",
              "    </tr>\n",
              "    <tr>\n",
              "      <th>50%</th>\n",
              "      <td>25230.000000</td>\n",
              "      <td>2524.000000</td>\n",
              "      <td>1212.500000</td>\n",
              "      <td>1667.500000</td>\n",
              "      <td>1842.000000</td>\n",
              "      <td>3790.000000</td>\n",
              "      <td>5362.000000</td>\n",
              "      <td>3257.500000</td>\n",
              "      <td>4379.500000</td>\n",
              "      <td>0.0</td>\n",
              "      <td>117.500000</td>\n",
              "      <td>1045.000000</td>\n",
              "      <td>1567.000000</td>\n",
              "      <td>2183.000000</td>\n",
              "      <td>1562.500000</td>\n",
              "      <td>303.000000</td>\n",
              "      <td>892.500000</td>\n",
              "      <td>2038.000000</td>\n",
              "      <td>8.512225e+05</td>\n",
              "    </tr>\n",
              "    <tr>\n",
              "      <th>75%</th>\n",
              "      <td>43672.250000</td>\n",
              "      <td>4633.750000</td>\n",
              "      <td>2238.750000</td>\n",
              "      <td>3110.500000</td>\n",
              "      <td>3206.500000</td>\n",
              "      <td>6544.000000</td>\n",
              "      <td>9366.000000</td>\n",
              "      <td>6174.000000</td>\n",
              "      <td>9196.000000</td>\n",
              "      <td>0.0</td>\n",
              "      <td>271.250000</td>\n",
              "      <td>1894.000000</td>\n",
              "      <td>3138.250000</td>\n",
              "      <td>4203.000000</td>\n",
              "      <td>3440.000000</td>\n",
              "      <td>515.000000</td>\n",
              "      <td>1851.750000</td>\n",
              "      <td>2416.500000</td>\n",
              "      <td>9.168718e+05</td>\n",
              "    </tr>\n",
              "    <tr>\n",
              "      <th>max</th>\n",
              "      <td>667603.000000</td>\n",
              "      <td>122578.000000</td>\n",
              "      <td>55935.000000</td>\n",
              "      <td>62342.000000</td>\n",
              "      <td>60567.000000</td>\n",
              "      <td>86116.000000</td>\n",
              "      <td>105316.000000</td>\n",
              "      <td>83341.000000</td>\n",
              "      <td>91408.000000</td>\n",
              "      <td>0.0</td>\n",
              "      <td>1389.000000</td>\n",
              "      <td>11747.000000</td>\n",
              "      <td>21237.000000</td>\n",
              "      <td>33111.000000</td>\n",
              "      <td>25779.000000</td>\n",
              "      <td>4956.000000</td>\n",
              "      <td>12944.000000</td>\n",
              "      <td>5876.000000</td>\n",
              "      <td>1.200769e+06</td>\n",
              "    </tr>\n",
              "  </tbody>\n",
              "</table>\n",
              "</div>"
            ],
            "text/plain": [
              "           população        popAte9  ...   rendaMedia   faturamento\n",
              "count      68.000000      68.000000  ...    68.000000  6.800000e+01\n",
              "mean    43201.132353    5614.691176  ...  2230.308824  8.173040e+05\n",
              "std     86482.178394   15271.974884  ...   728.778476  2.099405e+05\n",
              "min      1403.000000     175.000000  ...  1287.000000  3.546500e+04\n",
              "25%     11294.500000    1237.000000  ...  1784.750000  7.793428e+05\n",
              "50%     25230.000000    2524.000000  ...  2038.000000  8.512225e+05\n",
              "75%     43672.250000    4633.750000  ...  2416.500000  9.168718e+05\n",
              "max    667603.000000  122578.000000  ...  5876.000000  1.200769e+06\n",
              "\n",
              "[8 rows x 19 columns]"
            ]
          },
          "metadata": {
            "tags": []
          },
          "execution_count": 30
        }
      ]
    },
    {
      "cell_type": "markdown",
      "metadata": {
        "id": "MFyzpxNPr4cu"
      },
      "source": [
        "Quando temos uma alta concentração de domicilios A1 e A2, <b>a renda média e o faturamento é maior.</b>"
      ]
    },
    {
      "cell_type": "code",
      "metadata": {
        "colab": {
          "base_uri": "https://localhost:8080/",
          "height": 317
        },
        "id": "toWbO1kPrHbL",
        "outputId": "bfc6c766-36d5-46ad-c475-1f7e09926986"
      },
      "source": [
        "data.loc[(data['domiciliosA1'] > 0) & (data['domiciliosA2'] > 0)].describe()"
      ],
      "execution_count": null,
      "outputs": [
        {
          "output_type": "execute_result",
          "data": {
            "text/html": [
              "<div>\n",
              "<style scoped>\n",
              "    .dataframe tbody tr th:only-of-type {\n",
              "        vertical-align: middle;\n",
              "    }\n",
              "\n",
              "    .dataframe tbody tr th {\n",
              "        vertical-align: top;\n",
              "    }\n",
              "\n",
              "    .dataframe thead th {\n",
              "        text-align: right;\n",
              "    }\n",
              "</style>\n",
              "<table border=\"1\" class=\"dataframe\">\n",
              "  <thead>\n",
              "    <tr style=\"text-align: right;\">\n",
              "      <th></th>\n",
              "      <th>população</th>\n",
              "      <th>popAte9</th>\n",
              "      <th>popDe10a14</th>\n",
              "      <th>popDe15a19</th>\n",
              "      <th>popDe20a24</th>\n",
              "      <th>popDe25a34</th>\n",
              "      <th>popDe35a49</th>\n",
              "      <th>popDe50a59</th>\n",
              "      <th>popMaisDe60</th>\n",
              "      <th>domiciliosA1</th>\n",
              "      <th>domiciliosA2</th>\n",
              "      <th>domiciliosB1</th>\n",
              "      <th>domiciliosB2</th>\n",
              "      <th>domiciliosC1</th>\n",
              "      <th>domiciliosC2</th>\n",
              "      <th>domiciliosD</th>\n",
              "      <th>domiciliosE</th>\n",
              "      <th>rendaMedia</th>\n",
              "      <th>faturamento</th>\n",
              "    </tr>\n",
              "  </thead>\n",
              "  <tbody>\n",
              "    <tr>\n",
              "      <th>count</th>\n",
              "      <td>37.000000</td>\n",
              "      <td>37.000000</td>\n",
              "      <td>37.000000</td>\n",
              "      <td>37.000000</td>\n",
              "      <td>37.000000</td>\n",
              "      <td>37.000000</td>\n",
              "      <td>37.000000</td>\n",
              "      <td>37.000000</td>\n",
              "      <td>37.000000</td>\n",
              "      <td>37.000000</td>\n",
              "      <td>37.000000</td>\n",
              "      <td>37.0000</td>\n",
              "      <td>37.000000</td>\n",
              "      <td>37.000000</td>\n",
              "      <td>37.000000</td>\n",
              "      <td>37.000000</td>\n",
              "      <td>37.000000</td>\n",
              "      <td>37.000000</td>\n",
              "      <td>3.700000e+01</td>\n",
              "    </tr>\n",
              "    <tr>\n",
              "      <th>mean</th>\n",
              "      <td>46062.324324</td>\n",
              "      <td>4308.783784</td>\n",
              "      <td>1937.135135</td>\n",
              "      <td>2800.243243</td>\n",
              "      <td>3258.729730</td>\n",
              "      <td>7318.648649</td>\n",
              "      <td>9769.000000</td>\n",
              "      <td>6215.918919</td>\n",
              "      <td>10453.864865</td>\n",
              "      <td>1631.459459</td>\n",
              "      <td>2050.540541</td>\n",
              "      <td>4228.0000</td>\n",
              "      <td>2958.864865</td>\n",
              "      <td>3258.054054</td>\n",
              "      <td>2237.027027</td>\n",
              "      <td>376.648649</td>\n",
              "      <td>1324.891892</td>\n",
              "      <td>9200.351351</td>\n",
              "      <td>1.329018e+06</td>\n",
              "    </tr>\n",
              "    <tr>\n",
              "      <th>std</th>\n",
              "      <td>46167.834951</td>\n",
              "      <td>4955.177428</td>\n",
              "      <td>2137.328488</td>\n",
              "      <td>3025.237359</td>\n",
              "      <td>3523.691977</td>\n",
              "      <td>7601.151960</td>\n",
              "      <td>9691.951274</td>\n",
              "      <td>6201.602554</td>\n",
              "      <td>11840.067852</td>\n",
              "      <td>2569.870291</td>\n",
              "      <td>2687.534719</td>\n",
              "      <td>4926.3209</td>\n",
              "      <td>3142.444185</td>\n",
              "      <td>3651.020496</td>\n",
              "      <td>2927.108456</td>\n",
              "      <td>585.059456</td>\n",
              "      <td>1514.061183</td>\n",
              "      <td>10660.943856</td>\n",
              "      <td>5.902822e+05</td>\n",
              "    </tr>\n",
              "    <tr>\n",
              "      <th>min</th>\n",
              "      <td>842.000000</td>\n",
              "      <td>61.000000</td>\n",
              "      <td>29.000000</td>\n",
              "      <td>35.000000</td>\n",
              "      <td>46.000000</td>\n",
              "      <td>131.000000</td>\n",
              "      <td>192.000000</td>\n",
              "      <td>132.000000</td>\n",
              "      <td>174.000000</td>\n",
              "      <td>4.000000</td>\n",
              "      <td>47.000000</td>\n",
              "      <td>57.0000</td>\n",
              "      <td>33.000000</td>\n",
              "      <td>7.000000</td>\n",
              "      <td>8.000000</td>\n",
              "      <td>0.000000</td>\n",
              "      <td>20.000000</td>\n",
              "      <td>1495.000000</td>\n",
              "      <td>9.467100e+04</td>\n",
              "    </tr>\n",
              "    <tr>\n",
              "      <th>25%</th>\n",
              "      <td>13660.000000</td>\n",
              "      <td>1100.000000</td>\n",
              "      <td>546.000000</td>\n",
              "      <td>739.000000</td>\n",
              "      <td>961.000000</td>\n",
              "      <td>2256.000000</td>\n",
              "      <td>2922.000000</td>\n",
              "      <td>1741.000000</td>\n",
              "      <td>2345.000000</td>\n",
              "      <td>142.000000</td>\n",
              "      <td>334.000000</td>\n",
              "      <td>862.0000</td>\n",
              "      <td>788.000000</td>\n",
              "      <td>815.000000</td>\n",
              "      <td>457.000000</td>\n",
              "      <td>75.000000</td>\n",
              "      <td>289.000000</td>\n",
              "      <td>3443.000000</td>\n",
              "      <td>1.004569e+06</td>\n",
              "    </tr>\n",
              "    <tr>\n",
              "      <th>50%</th>\n",
              "      <td>33122.000000</td>\n",
              "      <td>2706.000000</td>\n",
              "      <td>1311.000000</td>\n",
              "      <td>1957.000000</td>\n",
              "      <td>2390.000000</td>\n",
              "      <td>5010.000000</td>\n",
              "      <td>7302.000000</td>\n",
              "      <td>3594.000000</td>\n",
              "      <td>6360.000000</td>\n",
              "      <td>510.000000</td>\n",
              "      <td>1139.000000</td>\n",
              "      <td>2290.0000</td>\n",
              "      <td>2016.000000</td>\n",
              "      <td>2141.000000</td>\n",
              "      <td>1369.000000</td>\n",
              "      <td>162.000000</td>\n",
              "      <td>827.000000</td>\n",
              "      <td>6499.000000</td>\n",
              "      <td>1.204467e+06</td>\n",
              "    </tr>\n",
              "    <tr>\n",
              "      <th>75%</th>\n",
              "      <td>51234.000000</td>\n",
              "      <td>4547.000000</td>\n",
              "      <td>2130.000000</td>\n",
              "      <td>2887.000000</td>\n",
              "      <td>3499.000000</td>\n",
              "      <td>8071.000000</td>\n",
              "      <td>9850.000000</td>\n",
              "      <td>7426.000000</td>\n",
              "      <td>14361.000000</td>\n",
              "      <td>2423.000000</td>\n",
              "      <td>2352.000000</td>\n",
              "      <td>5463.0000</td>\n",
              "      <td>4011.000000</td>\n",
              "      <td>3911.000000</td>\n",
              "      <td>2895.000000</td>\n",
              "      <td>414.000000</td>\n",
              "      <td>1575.000000</td>\n",
              "      <td>10573.000000</td>\n",
              "      <td>1.626856e+06</td>\n",
              "    </tr>\n",
              "    <tr>\n",
              "      <th>max</th>\n",
              "      <td>168267.000000</td>\n",
              "      <td>24961.000000</td>\n",
              "      <td>10376.000000</td>\n",
              "      <td>13874.000000</td>\n",
              "      <td>16321.000000</td>\n",
              "      <td>32572.000000</td>\n",
              "      <td>35693.000000</td>\n",
              "      <td>23892.000000</td>\n",
              "      <td>51445.000000</td>\n",
              "      <td>13408.000000</td>\n",
              "      <td>11668.000000</td>\n",
              "      <td>19350.0000</td>\n",
              "      <td>13160.000000</td>\n",
              "      <td>17034.000000</td>\n",
              "      <td>15909.000000</td>\n",
              "      <td>3178.000000</td>\n",
              "      <td>6837.000000</td>\n",
              "      <td>63887.000000</td>\n",
              "      <td>2.915612e+06</td>\n",
              "    </tr>\n",
              "  </tbody>\n",
              "</table>\n",
              "</div>"
            ],
            "text/plain": [
              "           população       popAte9  ...    rendaMedia   faturamento\n",
              "count      37.000000     37.000000  ...     37.000000  3.700000e+01\n",
              "mean    46062.324324   4308.783784  ...   9200.351351  1.329018e+06\n",
              "std     46167.834951   4955.177428  ...  10660.943856  5.902822e+05\n",
              "min       842.000000     61.000000  ...   1495.000000  9.467100e+04\n",
              "25%     13660.000000   1100.000000  ...   3443.000000  1.004569e+06\n",
              "50%     33122.000000   2706.000000  ...   6499.000000  1.204467e+06\n",
              "75%     51234.000000   4547.000000  ...  10573.000000  1.626856e+06\n",
              "max    168267.000000  24961.000000  ...  63887.000000  2.915612e+06\n",
              "\n",
              "[8 rows x 19 columns]"
            ]
          },
          "metadata": {
            "tags": []
          },
          "execution_count": 31
        }
      ]
    },
    {
      "cell_type": "markdown",
      "metadata": {
        "id": "8JeB1Fxv5kNz"
      },
      "source": [
        "<h3><b>Modelo -  Regressão Linear</b></h3>"
      ]
    },
    {
      "cell_type": "code",
      "metadata": {
        "id": "S7P4tBKvXxzt",
        "colab": {
          "base_uri": "https://localhost:8080/"
        },
        "outputId": "5e7a4774-2aa2-463a-e884-41ddf72c9e3d"
      },
      "source": [
        "from sklearn.linear_model import LinearRegression\n",
        "from yellowbrick.regressor import ResidualsPlot\n",
        "import statsmodels.formula.api as sm"
      ],
      "execution_count": null,
      "outputs": [
        {
          "output_type": "stream",
          "text": [
            "/usr/local/lib/python3.7/dist-packages/sklearn/utils/deprecation.py:144: FutureWarning: The sklearn.metrics.classification module is  deprecated in version 0.22 and will be removed in version 0.24. The corresponding classes / functions should instead be imported from sklearn.metrics. Anything that cannot be imported from sklearn.metrics is now part of the private API.\n",
            "  warnings.warn(message, FutureWarning)\n",
            "/usr/local/lib/python3.7/dist-packages/statsmodels/tools/_testing.py:19: FutureWarning: pandas.util.testing is deprecated. Use the functions in the public API at pandas.testing instead.\n",
            "  import pandas.util.testing as tm\n"
          ],
          "name": "stderr"
        }
      ]
    },
    {
      "cell_type": "markdown",
      "metadata": {
        "id": "gyjJAPtA3omr"
      },
      "source": [
        "Verificando a distribuição de cada coluna, e a correlação das variáveis independente com a variável dependente\n",
        "\n",
        "<b>Obs:</b> Apliquei o logaritmo nas variável independentes para obter uma distribuição normal, mas no modelo não apresentou melhoras significativas"
      ]
    },
    {
      "cell_type": "code",
      "metadata": {
        "colab": {
          "base_uri": "https://localhost:8080/",
          "height": 1000
        },
        "id": "dbW3P8YHe9f0",
        "outputId": "7c792d71-975d-40cb-ca5d-da50e7baffd4"
      },
      "source": [
        "columns = ['população', 'popAte9', 'popDe10a14', 'popDe15a19', 'popDe20a24', 'popDe25a34', 'popDe35a49', 'popDe50a59', 'popMaisDe60',\t'domiciliosA1','domiciliosA2', 'domiciliosB1', 'domiciliosB2', 'domiciliosC1', 'domiciliosC2', 'domiciliosD', 'domiciliosE', 'rendaMedia']\n",
        "for column in columns:\n",
        "  try:\n",
        "    print(\"Coluna: \", column)\n",
        "    print(\"Correlação {column} com faturamento: \", np.corrcoef(data[column], data['faturamento']))\n",
        "    plt.figure(figsize=(10,8))\n",
        "    plt.hist(data[column])\n",
        "    plt.xlabel(column)\n",
        "    plt.show()\n",
        "  except:\n",
        "    continue"
      ],
      "execution_count": null,
      "outputs": [
        {
          "output_type": "stream",
          "text": [
            "Coluna:  população\n",
            "Correlação {column} com faturamento:  [[ 1.         -0.16929952]\n",
            " [-0.16929952  1.        ]]\n"
          ],
          "name": "stdout"
        },
        {
          "output_type": "display_data",
          "data": {
            "image/png": "[encoded data removed]",
            "text/plain": [
              "<Figure size 720x576 with 1 Axes>"
            ]
          },
          "metadata": {
            "tags": []
          }
        },
        {
          "output_type": "stream",
          "text": [
            "Coluna:  popAte9\n",
            "Correlação {column} com faturamento:  [[ 1.        -0.3020871]\n",
            " [-0.3020871  1.       ]]\n"
          ],
          "name": "stdout"
        },
        {
          "output_type": "display_data",
          "data": {
            "image/png": "[encoded data removed]",
            "text/plain": [
              "<Figure size 720x576 with 1 Axes>"
            ]
          },
          "metadata": {
            "tags": []
          }
        },
        {
          "output_type": "stream",
          "text": [
            "Coluna:  popDe10a14\n",
            "Correlação {column} com faturamento:  [[ 1.         -0.30824447]\n",
            " [-0.30824447  1.        ]]\n"
          ],
          "name": "stdout"
        },
        {
          "output_type": "display_data",
          "data": {
            "image/png": "[encoded data removed]",
            "text/plain": [
              "<Figure size 720x576 with 1 Axes>"
            ]
          },
          "metadata": {
            "tags": []
          }
        },
        {
          "output_type": "stream",
          "text": [
            "Coluna:  popDe15a19\n",
            "Correlação {column} com faturamento:  [[ 1.         -0.29633568]\n",
            " [-0.29633568  1.        ]]\n"
          ],
          "name": "stdout"
        },
        {
          "output_type": "display_data",
          "data": {
            "image/png": "[encoded data removed]",
            "text/plain": [
              "<Figure size 720x576 with 1 Axes>"
            ]
          },
          "metadata": {
            "tags": []
          }
        },
        {
          "output_type": "stream",
          "text": [
            "Coluna:  popDe20a24\n",
            "Correlação {column} com faturamento:  [[ 1.         -0.25296746]\n",
            " [-0.25296746  1.        ]]\n"
          ],
          "name": "stdout"
        },
        {
          "output_type": "display_data",
          "data": {
            "image/png": "[encoded data removed]",
            "text/plain": [
              "<Figure size 720x576 with 1 Axes>"
            ]
          },
          "metadata": {
            "tags": []
          }
        },
        {
          "output_type": "stream",
          "text": [
            "Coluna:  popDe25a34\n",
            "Correlação {column} com faturamento:  [[ 1.         -0.19831738]\n",
            " [-0.19831738  1.        ]]\n"
          ],
          "name": "stdout"
        },
        {
          "output_type": "display_data",
          "data": {
            "image/png": "[encoded data removed]",
            "text/plain": [
              "<Figure size 720x576 with 1 Axes>"
            ]
          },
          "metadata": {
            "tags": []
          }
        },
        {
          "output_type": "stream",
          "text": [
            "Coluna:  popDe35a49\n",
            "Correlação {column} com faturamento:  [[ 1.         -0.17475864]\n",
            " [-0.17475864  1.        ]]\n"
          ],
          "name": "stdout"
        },
        {
          "output_type": "display_data",
          "data": {
            "image/png": "[encoded data removed]",
            "text/plain": [
              "<Figure size 720x576 with 1 Axes>"
            ]
          },
          "metadata": {
            "tags": []
          }
        },
        {
          "output_type": "stream",
          "text": [
            "Coluna:  popDe50a59\n",
            "Correlação {column} com faturamento:  [[ 1.         -0.07045146]\n",
            " [-0.07045146  1.        ]]\n"
          ],
          "name": "stdout"
        },
        {
          "output_type": "display_data",
          "data": {
            "image/png": "[encoded data removed]",
            "text/plain": [
              "<Figure size 720x576 with 1 Axes>"
            ]
          },
          "metadata": {
            "tags": []
          }
        },
        {
          "output_type": "stream",
          "text": [
            "Coluna:  popMaisDe60\n",
            "Correlação {column} com faturamento:  [[1.         0.13765419]\n",
            " [0.13765419 1.        ]]\n"
          ],
          "name": "stdout"
        },
        {
          "output_type": "display_data",
          "data": {
            "image/png": "[encoded data removed]",
            "text/plain": [
              "<Figure size 720x576 with 1 Axes>"
            ]
          },
          "metadata": {
            "tags": []
          }
        },
        {
          "output_type": "stream",
          "text": [
            "Coluna:  domiciliosA1\n",
            "Correlação {column} com faturamento:  [[1.         0.75735992]\n",
            " [0.75735992 1.        ]]\n"
          ],
          "name": "stdout"
        },
        {
          "output_type": "display_data",
          "data": {
            "image/png": "[encoded data removed]",
            "text/plain": [
              "<Figure size 720x576 with 1 Axes>"
            ]
          },
          "metadata": {
            "tags": []
          }
        },
        {
          "output_type": "stream",
          "text": [
            "Coluna:  domiciliosA2\n",
            "Correlação {column} com faturamento:  [[1.         0.78190096]\n",
            " [0.78190096 1.        ]]\n"
          ],
          "name": "stdout"
        },
        {
          "output_type": "display_data",
          "data": {
            "image/png": "[encoded data removed]",
            "text/plain": [
              "<Figure size 720x576 with 1 Axes>"
            ]
          },
          "metadata": {
            "tags": []
          }
        },
        {
          "output_type": "stream",
          "text": [
            "Coluna:  domiciliosB1\n",
            "Correlação {column} com faturamento:  [[1.         0.61198774]\n",
            " [0.61198774 1.        ]]\n"
          ],
          "name": "stdout"
        },
        {
          "output_type": "display_data",
          "data": {
            "image/png": "[encoded data removed]",
            "text/plain": [
              "<Figure size 720x576 with 1 Axes>"
            ]
          },
          "metadata": {
            "tags": []
          }
        },
        {
          "output_type": "stream",
          "text": [
            "Coluna:  domiciliosB2\n",
            "Correlação {column} com faturamento:  [[1.         0.00909576]\n",
            " [0.00909576 1.        ]]\n"
          ],
          "name": "stdout"
        },
        {
          "output_type": "display_data",
          "data": {
            "image/png": "[encoded data removed]",
            "text/plain": [
              "<Figure size 720x576 with 1 Axes>"
            ]
          },
          "metadata": {
            "tags": []
          }
        },
        {
          "output_type": "stream",
          "text": [
            "Coluna:  domiciliosC1\n",
            "Correlação {column} com faturamento:  [[ 1.         -0.32710782]\n",
            " [-0.32710782  1.        ]]\n"
          ],
          "name": "stdout"
        },
        {
          "output_type": "display_data",
          "data": {
            "image/png": "[encoded data removed]",
            "text/plain": [
              "<Figure size 720x576 with 1 Axes>"
            ]
          },
          "metadata": {
            "tags": []
          }
        },
        {
          "output_type": "stream",
          "text": [
            "Coluna:  domiciliosC2\n",
            "Correlação {column} com faturamento:  [[ 1.         -0.48188244]\n",
            " [-0.48188244  1.        ]]\n"
          ],
          "name": "stdout"
        },
        {
          "output_type": "display_data",
          "data": {
            "image/png": "[encoded data removed]",
            "text/plain": [
              "<Figure size 720x576 with 1 Axes>"
            ]
          },
          "metadata": {
            "tags": []
          }
        },
        {
          "output_type": "stream",
          "text": [
            "Coluna:  domiciliosD\n",
            "Correlação {column} com faturamento:  [[ 1.         -0.51500534]\n",
            " [-0.51500534  1.        ]]\n"
          ],
          "name": "stdout"
        },
        {
          "output_type": "display_data",
          "data": {
            "image/png": "[encoded data removed]",
            "text/plain": [
              "<Figure size 720x576 with 1 Axes>"
            ]
          },
          "metadata": {
            "tags": []
          }
        },
        {
          "output_type": "stream",
          "text": [
            "Coluna:  domiciliosE\n",
            "Correlação {column} com faturamento:  [[ 1.         -0.41467479]\n",
            " [-0.41467479  1.        ]]\n"
          ],
          "name": "stdout"
        },
        {
          "output_type": "display_data",
          "data": {
            "image/png": "[encoded data removed]",
            "text/plain": [
              "<Figure size 720x576 with 1 Axes>"
            ]
          },
          "metadata": {
            "tags": []
          }
        },
        {
          "output_type": "stream",
          "text": [
            "Coluna:  rendaMedia\n",
            "Correlação {column} com faturamento:  [[1.         0.55633544]\n",
            " [0.55633544 1.        ]]\n"
          ],
          "name": "stdout"
        },
        {
          "output_type": "display_data",
          "data": {
            "image/png": "[encoded data removed]",
            "text/plain": [
              "<Figure size 720x576 with 1 Axes>"
            ]
          },
          "metadata": {
            "tags": []
          }
        }
      ]
    },
    {
      "cell_type": "markdown",
      "metadata": {
        "id": "Py6VK1PU53ib"
      },
      "source": [
        "Obtendo as variáveis independentes para o modelo"
      ]
    },
    {
      "cell_type": "code",
      "metadata": {
        "id": "ILW2t71Ge9iZ"
      },
      "source": [
        "X = np.array(data.iloc[:,12:21].values)"
      ],
      "execution_count": null,
      "outputs": []
    },
    {
      "cell_type": "markdown",
      "metadata": {
        "id": "rWHKKEUS55QH"
      },
      "source": [
        "Obtendo as variáveis dependentes para o modelo"
      ]
    },
    {
      "cell_type": "code",
      "metadata": {
        "id": "2sK2pcisvy9w"
      },
      "source": [
        "y = np.array(data.iloc[:,21:22])"
      ],
      "execution_count": null,
      "outputs": []
    },
    {
      "cell_type": "markdown",
      "metadata": {
        "id": "fgyxxPzQ57cS"
      },
      "source": [
        "Criando o modelo de regressão linear, aplicando as variáveis para treinar o modelo e mensurando a performace do modelo"
      ]
    },
    {
      "cell_type": "code",
      "metadata": {
        "colab": {
          "base_uri": "https://localhost:8080/"
        },
        "id": "VdJYntDavzA-",
        "outputId": "988fab6e-9e7c-4604-f3db-1e6bc7f9ac5d"
      },
      "source": [
        "model = LinearRegression()\n",
        "model.fit(X, y)\n",
        "\n",
        "model.score(X, y)"
      ],
      "execution_count": null,
      "outputs": [
        {
          "output_type": "execute_result",
          "data": {
            "text/plain": [
              "0.9422462598582365"
            ]
          },
          "metadata": {
            "tags": []
          },
          "execution_count": 36
        }
      ]
    },
    {
      "cell_type": "markdown",
      "metadata": {
        "id": "JEzDraoD6HTT"
      },
      "source": [
        "Realizando um previsão com modelo treinado"
      ]
    },
    {
      "cell_type": "code",
      "metadata": {
        "id": "yPbAjmswzC0s"
      },
      "source": [
        "test = np.array([0, 150, 700, 1200, 900, 750, 100, 300, 2500]).reshape(1, -1)"
      ],
      "execution_count": null,
      "outputs": []
    },
    {
      "cell_type": "code",
      "metadata": {
        "colab": {
          "base_uri": "https://localhost:8080/"
        },
        "id": "5NIuULyWvzEF",
        "outputId": "fcb5e9f4-2eb4-4c79-b869-70e732104550"
      },
      "source": [
        "model.predict(test)"
      ],
      "execution_count": null,
      "outputs": [
        {
          "output_type": "execute_result",
          "data": {
            "text/plain": [
              "array([[919107.92800056]])"
            ]
          },
          "metadata": {
            "tags": []
          },
          "execution_count": 38
        }
      ]
    },
    {
      "cell_type": "markdown",
      "metadata": {
        "id": "Q1ocrmOV4t6I"
      },
      "source": [
        "Obtendo o coeficiente de correlação do model, o modelo obteve um bom valor para o R^2 com o valor de 0.94, a distribuição dos valores no gráfico no lado direito mostra uma boa distribuição"
      ]
    },
    {
      "cell_type": "code",
      "metadata": {
        "colab": {
          "base_uri": "https://localhost:8080/",
          "height": 620
        },
        "id": "LNqNFpHwvzXI",
        "outputId": "59a34105-728e-4f41-a436-91cfbe017b1b"
      },
      "source": [
        "plt.figure(figsize=(12,10))\n",
        "visualizar = ResidualsPlot(model)\n",
        "visualizar.fit(X, y)\n",
        "visualizar.poof()"
      ],
      "execution_count": null,
      "outputs": [
        {
          "output_type": "display_data",
          "data": {
            "image/png": "[encoded data removed]",
            "text/plain": [
              "<Figure size 864x720 with 2 Axes>"
            ]
          },
          "metadata": {
            "tags": []
          }
        }
      ]
    }
  ]
}